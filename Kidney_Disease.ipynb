{
  "nbformat": 4,
  "nbformat_minor": 0,
  "metadata": {
    "colab": {
      "name": "Kidney_Disease.ipynb",
      "provenance": [],
      "toc_visible": true,
      "mount_file_id": "1gSCQEimNBvr04zVs7WEQeZg69GjuTX8Y",
      "authorship_tag": "ABX9TyMEqzWZ761Mwor4BxX1DEuD",
      "include_colab_link": true
    },
    "kernelspec": {
      "name": "python3",
      "display_name": "Python 3"
    }
  },
  "cells": [
    {
      "cell_type": "markdown",
      "metadata": {
        "id": "view-in-github",
        "colab_type": "text"
      },
      "source": [
        "<a href=\"https://colab.research.google.com/github/InesAmri/AIHealth/blob/master/Kidney_Disease.ipynb\" target=\"_parent\"><img src=\"https://colab.research.google.com/assets/colab-badge.svg\" alt=\"Open In Colab\"/></a>"
      ]
    },
    {
      "cell_type": "markdown",
      "metadata": {
        "id": "3lrjbbVNt4OZ",
        "colab_type": "text"
      },
      "source": [
        "# I. Introduction"
      ]
    },
    {
      "cell_type": "markdown",
      "metadata": {
        "id": "_PQPjucynfnB",
        "colab_type": "text"
      },
      "source": [
        "Accurate risk stratification in patients with chronic kidney disease (CKD) can help guide earlier, targeted treatment. \n",
        "\n",
        "The purpose of this study is to identify different types of CKD patients within our dataset supplied by UCI Machine Learning Repository. \n",
        "\n",
        "\n",
        "---\n",
        "Report Structure: \n",
        "1. Exploratory analysis & data preprocessing \n",
        "2. Unsupervised learning - Clustering analysis \n",
        "3. Supervised learning \n",
        "\n"
      ]
    },
    {
      "cell_type": "code",
      "metadata": {
        "id": "nmSKQf1_vSl9",
        "colab_type": "code",
        "outputId": "6981282e-9b22-4727-faaf-64c0f0b52dc1",
        "colab": {
          "base_uri": "https://localhost:8080/",
          "height": 71
        }
      },
      "source": [
        "# Importing the libraries \n",
        "import pandas as pd\n",
        "import numpy as np\n",
        "import matplotlib.pyplot as plt\n",
        "import seaborn as sns\n",
        "\n",
        "%matplotlib inline"
      ],
      "execution_count": 0,
      "outputs": [
        {
          "output_type": "stream",
          "text": [
            "/usr/local/lib/python3.6/dist-packages/statsmodels/tools/_testing.py:19: FutureWarning: pandas.util.testing is deprecated. Use the functions in the public API at pandas.testing instead.\n",
            "  import pandas.util.testing as tm\n"
          ],
          "name": "stderr"
        }
      ]
    },
    {
      "cell_type": "markdown",
      "metadata": {
        "id": "pFOrLrAhiSUd",
        "colab_type": "text"
      },
      "source": [
        "# II. Data Preprocessing "
      ]
    },
    {
      "cell_type": "markdown",
      "metadata": {
        "id": "KHaEiO6h8aE3",
        "colab_type": "text"
      },
      "source": [
        "**Exploring the data**"
      ]
    },
    {
      "cell_type": "code",
      "metadata": {
        "id": "mAM-ZPwTvaWI",
        "colab_type": "code",
        "outputId": "35bc3ce1-c24c-4903-ebd8-3b94d0e30f77",
        "colab": {
          "base_uri": "https://localhost:8080/",
          "height": 224
        }
      },
      "source": [
        "# Import csv file \n",
        "data = pd.read_csv('kidney_disease.csv')\n",
        "data.head()"
      ],
      "execution_count": 0,
      "outputs": [
        {
          "output_type": "execute_result",
          "data": {
            "text/html": [
              "<div>\n",
              "<style scoped>\n",
              "    .dataframe tbody tr th:only-of-type {\n",
              "        vertical-align: middle;\n",
              "    }\n",
              "\n",
              "    .dataframe tbody tr th {\n",
              "        vertical-align: top;\n",
              "    }\n",
              "\n",
              "    .dataframe thead th {\n",
              "        text-align: right;\n",
              "    }\n",
              "</style>\n",
              "<table border=\"1\" class=\"dataframe\">\n",
              "  <thead>\n",
              "    <tr style=\"text-align: right;\">\n",
              "      <th></th>\n",
              "      <th>id</th>\n",
              "      <th>age</th>\n",
              "      <th>bp</th>\n",
              "      <th>sg</th>\n",
              "      <th>al</th>\n",
              "      <th>su</th>\n",
              "      <th>rbc</th>\n",
              "      <th>pc</th>\n",
              "      <th>pcc</th>\n",
              "      <th>ba</th>\n",
              "      <th>bgr</th>\n",
              "      <th>bu</th>\n",
              "      <th>sc</th>\n",
              "      <th>sod</th>\n",
              "      <th>pot</th>\n",
              "      <th>hemo</th>\n",
              "      <th>pcv</th>\n",
              "      <th>wc</th>\n",
              "      <th>rc</th>\n",
              "      <th>htn</th>\n",
              "      <th>dm</th>\n",
              "      <th>cad</th>\n",
              "      <th>appet</th>\n",
              "      <th>pe</th>\n",
              "      <th>ane</th>\n",
              "      <th>classification</th>\n",
              "    </tr>\n",
              "  </thead>\n",
              "  <tbody>\n",
              "    <tr>\n",
              "      <th>0</th>\n",
              "      <td>0</td>\n",
              "      <td>48.0</td>\n",
              "      <td>80.0</td>\n",
              "      <td>1.020</td>\n",
              "      <td>1.0</td>\n",
              "      <td>0.0</td>\n",
              "      <td>NaN</td>\n",
              "      <td>normal</td>\n",
              "      <td>notpresent</td>\n",
              "      <td>notpresent</td>\n",
              "      <td>121.0</td>\n",
              "      <td>36.0</td>\n",
              "      <td>1.2</td>\n",
              "      <td>NaN</td>\n",
              "      <td>NaN</td>\n",
              "      <td>15.4</td>\n",
              "      <td>44</td>\n",
              "      <td>7800</td>\n",
              "      <td>5.2</td>\n",
              "      <td>yes</td>\n",
              "      <td>yes</td>\n",
              "      <td>no</td>\n",
              "      <td>good</td>\n",
              "      <td>no</td>\n",
              "      <td>no</td>\n",
              "      <td>ckd</td>\n",
              "    </tr>\n",
              "    <tr>\n",
              "      <th>1</th>\n",
              "      <td>1</td>\n",
              "      <td>7.0</td>\n",
              "      <td>50.0</td>\n",
              "      <td>1.020</td>\n",
              "      <td>4.0</td>\n",
              "      <td>0.0</td>\n",
              "      <td>NaN</td>\n",
              "      <td>normal</td>\n",
              "      <td>notpresent</td>\n",
              "      <td>notpresent</td>\n",
              "      <td>NaN</td>\n",
              "      <td>18.0</td>\n",
              "      <td>0.8</td>\n",
              "      <td>NaN</td>\n",
              "      <td>NaN</td>\n",
              "      <td>11.3</td>\n",
              "      <td>38</td>\n",
              "      <td>6000</td>\n",
              "      <td>NaN</td>\n",
              "      <td>no</td>\n",
              "      <td>no</td>\n",
              "      <td>no</td>\n",
              "      <td>good</td>\n",
              "      <td>no</td>\n",
              "      <td>no</td>\n",
              "      <td>ckd</td>\n",
              "    </tr>\n",
              "    <tr>\n",
              "      <th>2</th>\n",
              "      <td>2</td>\n",
              "      <td>62.0</td>\n",
              "      <td>80.0</td>\n",
              "      <td>1.010</td>\n",
              "      <td>2.0</td>\n",
              "      <td>3.0</td>\n",
              "      <td>normal</td>\n",
              "      <td>normal</td>\n",
              "      <td>notpresent</td>\n",
              "      <td>notpresent</td>\n",
              "      <td>423.0</td>\n",
              "      <td>53.0</td>\n",
              "      <td>1.8</td>\n",
              "      <td>NaN</td>\n",
              "      <td>NaN</td>\n",
              "      <td>9.6</td>\n",
              "      <td>31</td>\n",
              "      <td>7500</td>\n",
              "      <td>NaN</td>\n",
              "      <td>no</td>\n",
              "      <td>yes</td>\n",
              "      <td>no</td>\n",
              "      <td>poor</td>\n",
              "      <td>no</td>\n",
              "      <td>yes</td>\n",
              "      <td>ckd</td>\n",
              "    </tr>\n",
              "    <tr>\n",
              "      <th>3</th>\n",
              "      <td>3</td>\n",
              "      <td>48.0</td>\n",
              "      <td>70.0</td>\n",
              "      <td>1.005</td>\n",
              "      <td>4.0</td>\n",
              "      <td>0.0</td>\n",
              "      <td>normal</td>\n",
              "      <td>abnormal</td>\n",
              "      <td>present</td>\n",
              "      <td>notpresent</td>\n",
              "      <td>117.0</td>\n",
              "      <td>56.0</td>\n",
              "      <td>3.8</td>\n",
              "      <td>111.0</td>\n",
              "      <td>2.5</td>\n",
              "      <td>11.2</td>\n",
              "      <td>32</td>\n",
              "      <td>6700</td>\n",
              "      <td>3.9</td>\n",
              "      <td>yes</td>\n",
              "      <td>no</td>\n",
              "      <td>no</td>\n",
              "      <td>poor</td>\n",
              "      <td>yes</td>\n",
              "      <td>yes</td>\n",
              "      <td>ckd</td>\n",
              "    </tr>\n",
              "    <tr>\n",
              "      <th>4</th>\n",
              "      <td>4</td>\n",
              "      <td>51.0</td>\n",
              "      <td>80.0</td>\n",
              "      <td>1.010</td>\n",
              "      <td>2.0</td>\n",
              "      <td>0.0</td>\n",
              "      <td>normal</td>\n",
              "      <td>normal</td>\n",
              "      <td>notpresent</td>\n",
              "      <td>notpresent</td>\n",
              "      <td>106.0</td>\n",
              "      <td>26.0</td>\n",
              "      <td>1.4</td>\n",
              "      <td>NaN</td>\n",
              "      <td>NaN</td>\n",
              "      <td>11.6</td>\n",
              "      <td>35</td>\n",
              "      <td>7300</td>\n",
              "      <td>4.6</td>\n",
              "      <td>no</td>\n",
              "      <td>no</td>\n",
              "      <td>no</td>\n",
              "      <td>good</td>\n",
              "      <td>no</td>\n",
              "      <td>no</td>\n",
              "      <td>ckd</td>\n",
              "    </tr>\n",
              "  </tbody>\n",
              "</table>\n",
              "</div>"
            ],
            "text/plain": [
              "   id   age    bp     sg   al   su  ...   dm cad appet   pe  ane  classification\n",
              "0   0  48.0  80.0  1.020  1.0  0.0  ...  yes  no  good   no   no             ckd\n",
              "1   1   7.0  50.0  1.020  4.0  0.0  ...   no  no  good   no   no             ckd\n",
              "2   2  62.0  80.0  1.010  2.0  3.0  ...  yes  no  poor   no  yes             ckd\n",
              "3   3  48.0  70.0  1.005  4.0  0.0  ...   no  no  poor  yes  yes             ckd\n",
              "4   4  51.0  80.0  1.010  2.0  0.0  ...   no  no  good   no   no             ckd\n",
              "\n",
              "[5 rows x 26 columns]"
            ]
          },
          "metadata": {
            "tags": []
          },
          "execution_count": 44
        }
      ]
    },
    {
      "cell_type": "code",
      "metadata": {
        "id": "POj_camYwlmH",
        "colab_type": "code",
        "outputId": "8366a35f-4cfa-4554-982c-e4bab4b4a554",
        "colab": {
          "base_uri": "https://localhost:8080/",
          "height": 317
        }
      },
      "source": [
        "# Descriptive statistics\n",
        "data.describe()"
      ],
      "execution_count": 0,
      "outputs": [
        {
          "output_type": "execute_result",
          "data": {
            "text/html": [
              "<div>\n",
              "<style scoped>\n",
              "    .dataframe tbody tr th:only-of-type {\n",
              "        vertical-align: middle;\n",
              "    }\n",
              "\n",
              "    .dataframe tbody tr th {\n",
              "        vertical-align: top;\n",
              "    }\n",
              "\n",
              "    .dataframe thead th {\n",
              "        text-align: right;\n",
              "    }\n",
              "</style>\n",
              "<table border=\"1\" class=\"dataframe\">\n",
              "  <thead>\n",
              "    <tr style=\"text-align: right;\">\n",
              "      <th></th>\n",
              "      <th>id</th>\n",
              "      <th>age</th>\n",
              "      <th>bp</th>\n",
              "      <th>sg</th>\n",
              "      <th>al</th>\n",
              "      <th>su</th>\n",
              "      <th>bgr</th>\n",
              "      <th>bu</th>\n",
              "      <th>sc</th>\n",
              "      <th>sod</th>\n",
              "      <th>pot</th>\n",
              "      <th>hemo</th>\n",
              "    </tr>\n",
              "  </thead>\n",
              "  <tbody>\n",
              "    <tr>\n",
              "      <th>count</th>\n",
              "      <td>400.000000</td>\n",
              "      <td>391.000000</td>\n",
              "      <td>388.000000</td>\n",
              "      <td>353.000000</td>\n",
              "      <td>354.000000</td>\n",
              "      <td>351.000000</td>\n",
              "      <td>356.000000</td>\n",
              "      <td>381.000000</td>\n",
              "      <td>383.000000</td>\n",
              "      <td>313.000000</td>\n",
              "      <td>312.000000</td>\n",
              "      <td>348.000000</td>\n",
              "    </tr>\n",
              "    <tr>\n",
              "      <th>mean</th>\n",
              "      <td>199.500000</td>\n",
              "      <td>51.483376</td>\n",
              "      <td>76.469072</td>\n",
              "      <td>1.017408</td>\n",
              "      <td>1.016949</td>\n",
              "      <td>0.450142</td>\n",
              "      <td>148.036517</td>\n",
              "      <td>57.425722</td>\n",
              "      <td>3.072454</td>\n",
              "      <td>137.528754</td>\n",
              "      <td>4.627244</td>\n",
              "      <td>12.526437</td>\n",
              "    </tr>\n",
              "    <tr>\n",
              "      <th>std</th>\n",
              "      <td>115.614301</td>\n",
              "      <td>17.169714</td>\n",
              "      <td>13.683637</td>\n",
              "      <td>0.005717</td>\n",
              "      <td>1.352679</td>\n",
              "      <td>1.099191</td>\n",
              "      <td>79.281714</td>\n",
              "      <td>50.503006</td>\n",
              "      <td>5.741126</td>\n",
              "      <td>10.408752</td>\n",
              "      <td>3.193904</td>\n",
              "      <td>2.912587</td>\n",
              "    </tr>\n",
              "    <tr>\n",
              "      <th>min</th>\n",
              "      <td>0.000000</td>\n",
              "      <td>2.000000</td>\n",
              "      <td>50.000000</td>\n",
              "      <td>1.005000</td>\n",
              "      <td>0.000000</td>\n",
              "      <td>0.000000</td>\n",
              "      <td>22.000000</td>\n",
              "      <td>1.500000</td>\n",
              "      <td>0.400000</td>\n",
              "      <td>4.500000</td>\n",
              "      <td>2.500000</td>\n",
              "      <td>3.100000</td>\n",
              "    </tr>\n",
              "    <tr>\n",
              "      <th>25%</th>\n",
              "      <td>99.750000</td>\n",
              "      <td>42.000000</td>\n",
              "      <td>70.000000</td>\n",
              "      <td>1.010000</td>\n",
              "      <td>0.000000</td>\n",
              "      <td>0.000000</td>\n",
              "      <td>99.000000</td>\n",
              "      <td>27.000000</td>\n",
              "      <td>0.900000</td>\n",
              "      <td>135.000000</td>\n",
              "      <td>3.800000</td>\n",
              "      <td>10.300000</td>\n",
              "    </tr>\n",
              "    <tr>\n",
              "      <th>50%</th>\n",
              "      <td>199.500000</td>\n",
              "      <td>55.000000</td>\n",
              "      <td>80.000000</td>\n",
              "      <td>1.020000</td>\n",
              "      <td>0.000000</td>\n",
              "      <td>0.000000</td>\n",
              "      <td>121.000000</td>\n",
              "      <td>42.000000</td>\n",
              "      <td>1.300000</td>\n",
              "      <td>138.000000</td>\n",
              "      <td>4.400000</td>\n",
              "      <td>12.650000</td>\n",
              "    </tr>\n",
              "    <tr>\n",
              "      <th>75%</th>\n",
              "      <td>299.250000</td>\n",
              "      <td>64.500000</td>\n",
              "      <td>80.000000</td>\n",
              "      <td>1.020000</td>\n",
              "      <td>2.000000</td>\n",
              "      <td>0.000000</td>\n",
              "      <td>163.000000</td>\n",
              "      <td>66.000000</td>\n",
              "      <td>2.800000</td>\n",
              "      <td>142.000000</td>\n",
              "      <td>4.900000</td>\n",
              "      <td>15.000000</td>\n",
              "    </tr>\n",
              "    <tr>\n",
              "      <th>max</th>\n",
              "      <td>399.000000</td>\n",
              "      <td>90.000000</td>\n",
              "      <td>180.000000</td>\n",
              "      <td>1.025000</td>\n",
              "      <td>5.000000</td>\n",
              "      <td>5.000000</td>\n",
              "      <td>490.000000</td>\n",
              "      <td>391.000000</td>\n",
              "      <td>76.000000</td>\n",
              "      <td>163.000000</td>\n",
              "      <td>47.000000</td>\n",
              "      <td>17.800000</td>\n",
              "    </tr>\n",
              "  </tbody>\n",
              "</table>\n",
              "</div>"
            ],
            "text/plain": [
              "               id         age          bp  ...         sod         pot        hemo\n",
              "count  400.000000  391.000000  388.000000  ...  313.000000  312.000000  348.000000\n",
              "mean   199.500000   51.483376   76.469072  ...  137.528754    4.627244   12.526437\n",
              "std    115.614301   17.169714   13.683637  ...   10.408752    3.193904    2.912587\n",
              "min      0.000000    2.000000   50.000000  ...    4.500000    2.500000    3.100000\n",
              "25%     99.750000   42.000000   70.000000  ...  135.000000    3.800000   10.300000\n",
              "50%    199.500000   55.000000   80.000000  ...  138.000000    4.400000   12.650000\n",
              "75%    299.250000   64.500000   80.000000  ...  142.000000    4.900000   15.000000\n",
              "max    399.000000   90.000000  180.000000  ...  163.000000   47.000000   17.800000\n",
              "\n",
              "[8 rows x 12 columns]"
            ]
          },
          "metadata": {
            "tags": []
          },
          "execution_count": 45
        }
      ]
    },
    {
      "cell_type": "code",
      "metadata": {
        "id": "oFxf90ZVxZhO",
        "colab_type": "code",
        "outputId": "53df57d2-af98-4ef9-f288-e5b4ff457465",
        "colab": {
          "base_uri": "https://localhost:8080/",
          "height": 34
        }
      },
      "source": [
        "# Inspecting categorical variables \n",
        "data['cad'].value_counts()\n",
        "data['rbc'].unique()\n",
        "data['pc'].unique()\n",
        "data['pcc'].unique()\n",
        "data['htn'].unique()\n",
        "data['appet'].unique()\n",
        "data['pc'].unique()"
      ],
      "execution_count": 0,
      "outputs": [
        {
          "output_type": "execute_result",
          "data": {
            "text/plain": [
              "array(['normal', 'abnormal', nan], dtype=object)"
            ]
          },
          "metadata": {
            "tags": []
          },
          "execution_count": 46
        }
      ]
    },
    {
      "cell_type": "code",
      "metadata": {
        "id": "oFah7Wdzyirl",
        "colab_type": "code",
        "outputId": "1713be89-f70a-43b9-d382-b312c972c2ed",
        "colab": {
          "base_uri": "https://localhost:8080/",
          "height": 476
        }
      },
      "source": [
        "# Inspecting missing values \n",
        "data.isna().sum()"
      ],
      "execution_count": 0,
      "outputs": [
        {
          "output_type": "execute_result",
          "data": {
            "text/plain": [
              "id                  0\n",
              "age                 9\n",
              "bp                 12\n",
              "sg                 47\n",
              "al                 46\n",
              "su                 49\n",
              "rbc               152\n",
              "pc                 65\n",
              "pcc                 4\n",
              "ba                  4\n",
              "bgr                44\n",
              "bu                 19\n",
              "sc                 17\n",
              "sod                87\n",
              "pot                88\n",
              "hemo               52\n",
              "pcv                70\n",
              "wc                105\n",
              "rc                130\n",
              "htn                 2\n",
              "dm                  2\n",
              "cad                 2\n",
              "appet               1\n",
              "pe                  1\n",
              "ane                 1\n",
              "classification      0\n",
              "dtype: int64"
            ]
          },
          "metadata": {
            "tags": []
          },
          "execution_count": 47
        }
      ]
    },
    {
      "cell_type": "code",
      "metadata": {
        "id": "lTHJNU2MdThl",
        "colab_type": "code",
        "outputId": "121cbb10-bd20-49b8-bdbc-e261d56ebb22",
        "colab": {
          "base_uri": "https://localhost:8080/",
          "height": 34
        }
      },
      "source": [
        "np.unique(data['classification'],return_counts=True)"
      ],
      "execution_count": 0,
      "outputs": [
        {
          "output_type": "execute_result",
          "data": {
            "text/plain": [
              "(array(['ckd', 'ckd\\t', 'notckd'], dtype=object), array([248,   2, 150]))"
            ]
          },
          "metadata": {
            "tags": []
          },
          "execution_count": 21
        }
      ]
    },
    {
      "cell_type": "markdown",
      "metadata": {
        "id": "QZ5OwSot8soR",
        "colab_type": "text"
      },
      "source": [
        "**Preprocessing** **the** **data** "
      ]
    },
    {
      "cell_type": "code",
      "metadata": {
        "id": "BlyQH4tky_xO",
        "colab_type": "code",
        "colab": {}
      },
      "source": [
        "# Data Labeling \n",
        "# Add the target label that signifies whether a patient has Chronic Kidney Disease (CKD) or not\n",
        "\n",
        "data.loc[:,'classification']=np.where(data['classification']=='ckd',1,0)\n",
        "\n",
        "# Converting nominal variables (yes/no) to binary 0/1\n",
        "data[['htn','pe','ane']] = data[['htn','pe','ane']].replace(to_replace={'yes':1,'no':0})\n",
        "\n",
        "# Converting nominal variables (normal/abnormal) to binary \n",
        "data[['rbc','pc']] = data[['rbc','pc']].replace(to_replace={'abnormal':1,'normal':0})\n",
        "\n",
        "# Converting nominal variables (present/not present) to binary \n",
        "data[['pcc','ba']] = data[['pcc','ba']].replace(to_replace={'present':1,'notpresent':0})\n",
        "\n",
        "# Converting nominal variables (good/poor) to binary \n",
        "data[['appet']] = data[['appet']].replace(to_replace={'good':1,'poor':0})\n",
        "\n",
        "data[['cad']] = data[['cad']].replace(to_replace = {'yes':1,'no':0,'\\tno':0})\n",
        "\n",
        "data[['dm']] = data[['dm']].replace(to_replace = {'yes':1, 'no': 0, '\\tno': 0, '\\tyes': 1, ' yes':1 })\n"
      ],
      "execution_count": 0,
      "outputs": []
    },
    {
      "cell_type": "markdown",
      "metadata": {
        "id": "NE1fbpnf63m4",
        "colab_type": "text"
      },
      "source": [
        "**Boxplot #1: Visualising the data**\n",
        "\n",
        "---\n",
        "\n"
      ]
    },
    {
      "cell_type": "markdown",
      "metadata": {
        "id": "mGRVfGo368MZ",
        "colab_type": "text"
      },
      "source": [
        "An optimal blood pressure level is a reading under 120/80 mmHg"
      ]
    },
    {
      "cell_type": "code",
      "metadata": {
        "id": "3WZUlvWDm1Uf",
        "colab_type": "code",
        "outputId": "c03e0a67-725b-4e7b-bd69-0ad59503c327",
        "colab": {
          "base_uri": "https://localhost:8080/",
          "height": 296
        }
      },
      "source": [
        "# look for outliers\n",
        "# Blood Pressure\n",
        "sns.boxplot(x=data['bp'])"
      ],
      "execution_count": 0,
      "outputs": [
        {
          "output_type": "execute_result",
          "data": {
            "text/plain": [
              "<matplotlib.axes._subplots.AxesSubplot at 0x7f8ca3180ac8>"
            ]
          },
          "metadata": {
            "tags": []
          },
          "execution_count": 49
        },
        {
          "output_type": "display_data",
          "data": {
            "image/png": "[encoded data removed]",
            "text/plain": [
              "<Figure size 432x288 with 1 Axes>"
            ]
          },
          "metadata": {
            "tags": [],
            "needs_background": "light"
          }
        }
      ]
    },
    {
      "cell_type": "markdown",
      "metadata": {
        "id": "D9Jen7xB6xSe",
        "colab_type": "text"
      },
      "source": [
        "Very high blood sugar above 400 mg/dL (22.2 mmol/L) can be a medical emergency."
      ]
    },
    {
      "cell_type": "code",
      "metadata": {
        "id": "lCSqIlJGp6O6",
        "colab_type": "code",
        "outputId": "287f1900-d13b-4e87-baba-a8a01cfa2ac8",
        "colab": {
          "base_uri": "https://localhost:8080/",
          "height": 296
        }
      },
      "source": [
        "# Blood Glucose Random \n",
        "sns.boxplot(x=data['bgr'])"
      ],
      "execution_count": 0,
      "outputs": [
        {
          "output_type": "execute_result",
          "data": {
            "text/plain": [
              "<matplotlib.axes._subplots.AxesSubplot at 0x7f8ca31c17f0>"
            ]
          },
          "metadata": {
            "tags": []
          },
          "execution_count": 50
        },
        {
          "output_type": "display_data",
          "data": {
            "image/png": "[encoded data removed]",
            "text/plain": [
              "<Figure size 432x288 with 1 Axes>"
            ]
          },
          "metadata": {
            "tags": [],
            "needs_background": "light"
          }
        }
      ]
    },
    {
      "cell_type": "markdown",
      "metadata": {
        "id": "NVXkd1Za7Vb3",
        "colab_type": "text"
      },
      "source": [
        "Blood urea around 7 to 20 mg/dl is considered normal"
      ]
    },
    {
      "cell_type": "code",
      "metadata": {
        "id": "bWVdFmJpqM9K",
        "colab_type": "code",
        "outputId": "ef945e3a-23f9-434b-9d08-6d94d441e222",
        "colab": {
          "base_uri": "https://localhost:8080/",
          "height": 296
        }
      },
      "source": [
        "sns.boxplot(x=data['bu'])"
      ],
      "execution_count": 0,
      "outputs": [
        {
          "output_type": "execute_result",
          "data": {
            "text/plain": [
              "<matplotlib.axes._subplots.AxesSubplot at 0x7f8ca2b2fe48>"
            ]
          },
          "metadata": {
            "tags": []
          },
          "execution_count": 25
        },
        {
          "output_type": "display_data",
          "data": {
            "image/png": "[encoded data removed]",
            "text/plain": [
              "<Figure size 432x288 with 1 Axes>"
            ]
          },
          "metadata": {
            "tags": [],
            "needs_background": "light"
          }
        }
      ]
    },
    {
      "cell_type": "markdown",
      "metadata": {
        "id": "yd0Kz1Hd7fSG",
        "colab_type": "text"
      },
      "source": [
        "Normal levels of creatinine in the blood are approximately 0.5 to 1.2 mg/dl"
      ]
    },
    {
      "cell_type": "markdown",
      "metadata": {
        "id": "Pbr2QH-v79tv",
        "colab_type": "text"
      },
      "source": [
        "The kidneys are responsible for keeping the level of creatinine in the blood within a normal range. "
      ]
    },
    {
      "cell_type": "code",
      "metadata": {
        "id": "3nEZUCG0qV3H",
        "colab_type": "code",
        "outputId": "88bc54c9-9318-42cd-879f-ed5d279cb234",
        "colab": {
          "base_uri": "https://localhost:8080/",
          "height": 296
        }
      },
      "source": [
        "# Serum Creatinine \n",
        "sns.boxplot(x=data['sc'])"
      ],
      "execution_count": 0,
      "outputs": [
        {
          "output_type": "execute_result",
          "data": {
            "text/plain": [
              "<matplotlib.axes._subplots.AxesSubplot at 0x7f8ca3160c50>"
            ]
          },
          "metadata": {
            "tags": []
          },
          "execution_count": 26
        },
        {
          "output_type": "display_data",
          "data": {
            "image/png": "[encoded data removed]",
            "text/plain": [
              "<Figure size 432x288 with 1 Axes>"
            ]
          },
          "metadata": {
            "tags": [],
            "needs_background": "light"
          }
        }
      ]
    },
    {
      "cell_type": "markdown",
      "metadata": {
        "id": "uwJZBVc98oJq",
        "colab_type": "text"
      },
      "source": [
        "The normal potassium level in the blood is 3.5-5.0 milliEquivalents per liter (mEq/L). Levels above 7 mEq/L reflect severe hyperkalemia."
      ]
    },
    {
      "cell_type": "code",
      "metadata": {
        "id": "HNGLKRm0quph",
        "colab_type": "code",
        "outputId": "fa7242e6-df13-404d-ed4f-a120c6a70478",
        "colab": {
          "base_uri": "https://localhost:8080/",
          "height": 296
        }
      },
      "source": [
        "sns.boxplot(x=data['pot'])\n"
      ],
      "execution_count": 0,
      "outputs": [
        {
          "output_type": "execute_result",
          "data": {
            "text/plain": [
              "<matplotlib.axes._subplots.AxesSubplot at 0x7f8ca2a77438>"
            ]
          },
          "metadata": {
            "tags": []
          },
          "execution_count": 27
        },
        {
          "output_type": "display_data",
          "data": {
            "image/png": "[encoded data removed]",
            "text/plain": [
              "<Figure size 432x288 with 1 Axes>"
            ]
          },
          "metadata": {
            "tags": [],
            "needs_background": "light"
          }
        }
      ]
    },
    {
      "cell_type": "markdown",
      "metadata": {
        "id": "ePnHhZsd922j",
        "colab_type": "text"
      },
      "source": [
        "A hemoglobin concentration of 15 g/dl appears optimal for preterm and full-term infants at birth as well as for adults."
      ]
    },
    {
      "cell_type": "code",
      "metadata": {
        "id": "uEMSfaNLq2ZX",
        "colab_type": "code",
        "outputId": "8349289f-ef0f-446d-a242-7ee3639dd9ca",
        "colab": {
          "base_uri": "https://localhost:8080/",
          "height": 296
        }
      },
      "source": [
        "sns.boxplot(x=data['hemo'])"
      ],
      "execution_count": 0,
      "outputs": [
        {
          "output_type": "execute_result",
          "data": {
            "text/plain": [
              "<matplotlib.axes._subplots.AxesSubplot at 0x7f8ca29da048>"
            ]
          },
          "metadata": {
            "tags": []
          },
          "execution_count": 28
        },
        {
          "output_type": "display_data",
          "data": {
            "image/png": "[encoded data removed]",
            "text/plain": [
              "<Figure size 432x288 with 1 Axes>"
            ]
          },
          "metadata": {
            "tags": [],
            "needs_background": "light"
          }
        }
      ]
    },
    {
      "cell_type": "markdown",
      "metadata": {
        "id": "XYOYDtxq-Aaf",
        "colab_type": "text"
      },
      "source": [
        "Several observation are related to young patients (below 15 years/old)"
      ]
    },
    {
      "cell_type": "code",
      "metadata": {
        "id": "4MWuuoiNq8rZ",
        "colab_type": "code",
        "outputId": "58013e49-f443-41d1-a23f-f09c02827d58",
        "colab": {
          "base_uri": "https://localhost:8080/",
          "height": 296
        }
      },
      "source": [
        "sns.boxplot(x=data['age'])"
      ],
      "execution_count": 0,
      "outputs": [
        {
          "output_type": "execute_result",
          "data": {
            "text/plain": [
              "<matplotlib.axes._subplots.AxesSubplot at 0x7f8ca29c9128>"
            ]
          },
          "metadata": {
            "tags": []
          },
          "execution_count": 29
        },
        {
          "output_type": "display_data",
          "data": {
            "image/png": "[encoded data removed]",
            "text/plain": [
              "<Figure size 432x288 with 1 Axes>"
            ]
          },
          "metadata": {
            "tags": [],
            "needs_background": "light"
          }
        }
      ]
    },
    {
      "cell_type": "markdown",
      "metadata": {
        "id": "8E7jhHa7-NHF",
        "colab_type": "text"
      },
      "source": [
        "A normal blood sodium level is between 135 and 145 (mEq/L)."
      ]
    },
    {
      "cell_type": "code",
      "metadata": {
        "id": "p0ll7FwVrUF-",
        "colab_type": "code",
        "outputId": "7d0dbd6d-03e8-42f8-e132-7368fed807be",
        "colab": {
          "base_uri": "https://localhost:8080/",
          "height": 296
        }
      },
      "source": [
        "# Sodium\n",
        "sns.boxplot(x=data['sod'])"
      ],
      "execution_count": 0,
      "outputs": [
        {
          "output_type": "execute_result",
          "data": {
            "text/plain": [
              "<matplotlib.axes._subplots.AxesSubplot at 0x7f8ca292be10>"
            ]
          },
          "metadata": {
            "tags": []
          },
          "execution_count": 30
        },
        {
          "output_type": "display_data",
          "data": {
            "image/png": "[encoded data removed]",
            "text/plain": [
              "<Figure size 432x288 with 1 Axes>"
            ]
          },
          "metadata": {
            "tags": [],
            "needs_background": "light"
          }
        }
      ]
    },
    {
      "cell_type": "markdown",
      "metadata": {
        "id": "5X-Dl5lB9ZI7",
        "colab_type": "text"
      },
      "source": [
        "**Handling Numerical Missing Values**"
      ]
    },
    {
      "cell_type": "code",
      "metadata": {
        "id": "esI6XJzVHgJh",
        "colab_type": "code",
        "colab": {}
      },
      "source": [
        "# Dealing with numerical missing values\n",
        "data.columns\n",
        "for col in ['age' ,'bp', 'bgr','bu', 'sc','sod', 'pot', 'hemo']:\n",
        "  data[col].fillna((data[col].mean()),inplace=True)"
      ],
      "execution_count": 0,
      "outputs": []
    },
    {
      "cell_type": "code",
      "metadata": {
        "id": "w-Hr_biFLevO",
        "colab_type": "code",
        "colab": {}
      },
      "source": [
        "# Looks like there some numerical variables (pcv, rb, wc) have some issues \n",
        "# as they are considered to be nominal \n",
        "# Let's clean these 3 columns\n",
        "\n",
        "#pcv\n",
        "data['pcv'].value_counts()\n",
        "data[['pcv']] = data[['pcv']].replace(to_replace = {'\\t?':0, '\\t43': 43})\n",
        "                                     \n",
        "#wc\n",
        "data['wc'].value_counts()\n",
        "data[['wc']] = data[['wc']].replace(to_replace = {'\\t8400':8400, '\\t?':0})\n",
        "\n",
        "#rc\n",
        "data['rc'].value_counts()\n",
        "data[['rc']] = data[['rc']].replace(to_replace = {'\\t?':0})                            "
      ],
      "execution_count": 0,
      "outputs": []
    },
    {
      "cell_type": "code",
      "metadata": {
        "id": "eu6GYeIVON-q",
        "colab_type": "code",
        "colab": {}
      },
      "source": [
        "# Making sure that all values are numeric \n",
        "data['rc']=data['rc'].astype(float) \n",
        "data['pcv']=data['pcv'].astype(float) \n",
        "data['wc']=data['wc'].astype(float) "
      ],
      "execution_count": 0,
      "outputs": []
    },
    {
      "cell_type": "code",
      "metadata": {
        "id": "O-oS_HQKUxsz",
        "colab_type": "code",
        "colab": {}
      },
      "source": [
        "# Filling NaNs\n",
        "for col in ['wc' ,'rc', 'pcv']:\n",
        "  data[col].fillna((data[col].mean()),inplace=True)"
      ],
      "execution_count": 0,
      "outputs": []
    },
    {
      "cell_type": "code",
      "metadata": {
        "id": "pEYU14nhcGJi",
        "colab_type": "code",
        "colab": {}
      },
      "source": [
        "# Replace 0 values with the mean\n",
        "# for pcv\n",
        "data.iloc[66, 16] = 38.76\n",
        "# for wc\n",
        "data.iloc[185, 17] = 8377.63\n",
        "# for rc\n",
        "data.iloc[162, 18] = 4.69\n",
        "\n",
        "# to identify the rows: data[data[col] == 0]"
      ],
      "execution_count": 0,
      "outputs": []
    },
    {
      "cell_type": "markdown",
      "metadata": {
        "id": "XHhoWdCVDDm1",
        "colab_type": "text"
      },
      "source": [
        "**Boxplot #2: Visualising the data**\n",
        "\n",
        "---\n",
        "\n"
      ]
    },
    {
      "cell_type": "markdown",
      "metadata": {
        "id": "_VhcZjk7-aPS",
        "colab_type": "text"
      },
      "source": [
        "Normal white blood cells count range is usually between 4,000 and 11,000 per microliter of blood. A blood test that shows a WBC count of less than 4,000 per microliter  could mean your body may not be able to fight infection the way it should."
      ]
    },
    {
      "cell_type": "markdown",
      "metadata": {
        "id": "P4KuGT_G-zsh",
        "colab_type": "text"
      },
      "source": [
        " White blood cell counts <1000 and >50,000 are considered critical values."
      ]
    },
    {
      "cell_type": "markdown",
      "metadata": {
        "id": "Iw703P45_Ep9",
        "colab_type": "text"
      },
      "source": [
        "A marked elevation >18,000 to 20,000/mm3 suggests rupture, phlegmon, or abscess."
      ]
    },
    {
      "cell_type": "code",
      "metadata": {
        "id": "o_O9TarAZkvm",
        "colab_type": "code",
        "outputId": "52c8aa7a-e94f-4201-a84b-3f1d39f301aa",
        "colab": {
          "base_uri": "https://localhost:8080/",
          "height": 296
        }
      },
      "source": [
        "sns.boxplot(x=data['wc'])\n"
      ],
      "execution_count": 0,
      "outputs": [
        {
          "output_type": "execute_result",
          "data": {
            "text/plain": [
              "<matplotlib.axes._subplots.AxesSubplot at 0x7f8ca2bc0d30>"
            ]
          },
          "metadata": {
            "tags": []
          },
          "execution_count": 56
        },
        {
          "output_type": "display_data",
          "data": {
            "image/png": "[encoded data removed]",
            "text/plain": [
              "<Figure size 432x288 with 1 Axes>"
            ]
          },
          "metadata": {
            "tags": [],
            "needs_background": "light"
          }
        }
      ]
    },
    {
      "cell_type": "markdown",
      "metadata": {
        "id": "gYg9HWPH_NBl",
        "colab_type": "text"
      },
      "source": [
        "Normal range varies slightly between laboratories but is generally between 4.2 - 5.9 million cells/cmm"
      ]
    },
    {
      "cell_type": "markdown",
      "metadata": {
        "id": "Ip1uWOKn_qyU",
        "colab_type": "text"
      },
      "source": [
        "A high RBC count may be a result of conditions that cause low oxygen levels in the blood."
      ]
    },
    {
      "cell_type": "markdown",
      "metadata": {
        "id": "w8xsFTZMABVY",
        "colab_type": "text"
      },
      "source": [
        "A low RBC count indicates a decrease in oxygen-carrying cells in the blood."
      ]
    },
    {
      "cell_type": "code",
      "metadata": {
        "id": "VLS8IvQCZmpt",
        "colab_type": "code",
        "outputId": "f46da79a-acc6-4f7d-b24a-3252241e4617",
        "colab": {
          "base_uri": "https://localhost:8080/",
          "height": 296
        }
      },
      "source": [
        "sns.boxplot(x=data['rc'])"
      ],
      "execution_count": 0,
      "outputs": [
        {
          "output_type": "execute_result",
          "data": {
            "text/plain": [
              "<matplotlib.axes._subplots.AxesSubplot at 0x7f8ca255f9e8>"
            ]
          },
          "metadata": {
            "tags": []
          },
          "execution_count": 57
        },
        {
          "output_type": "display_data",
          "data": {
            "image/png": "[encoded data removed]",
            "text/plain": [
              "<Figure size 432x288 with 1 Axes>"
            ]
          },
          "metadata": {
            "tags": [],
            "needs_background": "light"
          }
        }
      ]
    },
    {
      "cell_type": "markdown",
      "metadata": {
        "id": "DUsFoRnkBTOE",
        "colab_type": "text"
      },
      "source": [
        "The packed cell volume (PCV) is a measurement of the proportion of blood that is made up of cells. The value is expressed as a percentage or fraction of cells in blood. For example, a PCV of 40% means that there are 40 millilitres of cells in 100 millilitres of blood."
      ]
    },
    {
      "cell_type": "markdown",
      "metadata": {
        "id": "VzQSZaX5AWf3",
        "colab_type": "text"
      },
      "source": [
        "the normal mean packed cell volume range from 40 to 53 percent and 36 to 48 percent"
      ]
    },
    {
      "cell_type": "markdown",
      "metadata": {
        "id": "szpOqsynBf8D",
        "colab_type": "text"
      },
      "source": [
        "The PCV rises when the number of red blood cells increases or when the total blood volume is reduced, as in dehydration. The PCV falls to less than normal, indicating anaemia, when your body decreases its production of red blood cells or increases its destruction of red blood cells."
      ]
    },
    {
      "cell_type": "markdown",
      "metadata": {
        "id": "vAaF2RnjB7qw",
        "colab_type": "text"
      },
      "source": [
        "When kidneys are diseased or damaged, they do not make enough a hormone called erythropoietin (EPO). As a result, the bone marrow makes fewer red blood cells, causing anemia. When blood has fewer red blood cells, it deprives the body of the oxygen it needs."
      ]
    },
    {
      "cell_type": "code",
      "metadata": {
        "id": "FiYZ1XDlggtY",
        "colab_type": "code",
        "outputId": "ab036f1a-1c1f-4bfa-90b4-5bce6cf73dfb",
        "colab": {
          "base_uri": "https://localhost:8080/",
          "height": 296
        }
      },
      "source": [
        "sns.boxplot(x=data['pcv'])"
      ],
      "execution_count": 0,
      "outputs": [
        {
          "output_type": "execute_result",
          "data": {
            "text/plain": [
              "<matplotlib.axes._subplots.AxesSubplot at 0x7f8ca2542be0>"
            ]
          },
          "metadata": {
            "tags": []
          },
          "execution_count": 58
        },
        {
          "output_type": "display_data",
          "data": {
            "image/png": "[encoded data removed]",
            "text/plain": [
              "<Figure size 432x288 with 1 Axes>"
            ]
          },
          "metadata": {
            "tags": [],
            "needs_background": "light"
          }
        }
      ]
    },
    {
      "cell_type": "markdown",
      "metadata": {
        "id": "perU4qvf90Xg",
        "colab_type": "text"
      },
      "source": [
        "**Handling Categorical Missing Values**"
      ]
    },
    {
      "cell_type": "code",
      "metadata": {
        "id": "nnE-V-1bKSUR",
        "colab_type": "code",
        "colab": {}
      },
      "source": [
        "# Dealing with categorical missing values\n",
        "for col in ['sg' ,'al', 'su', 'rbc', 'pc', 'pcc','ba',\n",
        "            'htn','dm', 'cad', 'appet', 'pe', 'ane'\n",
        "        ]:\n",
        "  data[col].fillna((data[col].value_counts().idxmax()),inplace=True)\n"
      ],
      "execution_count": 0,
      "outputs": []
    },
    {
      "cell_type": "code",
      "metadata": {
        "id": "pMH-6TlGXdzP",
        "colab_type": "code",
        "colab": {}
      },
      "source": [
        "# Converting them into categorical values\n",
        "for col in ['sg' ,'al', 'su', 'rbc', 'pc', 'pcc','ba',\n",
        "            'htn','dm', 'cad', 'appet', 'pe', 'ane', 'classification']:\n",
        "  data[col]=data[col].astype(str) "
      ],
      "execution_count": 0,
      "outputs": []
    },
    {
      "cell_type": "code",
      "metadata": {
        "id": "Y6wVBpnpu0Tj",
        "colab_type": "code",
        "colab": {}
      },
      "source": [
        "data = data.rename(columns={'classification': 'CKD'})"
      ],
      "execution_count": 0,
      "outputs": []
    },
    {
      "cell_type": "markdown",
      "metadata": {
        "id": "3YJKUg18tGP2",
        "colab_type": "text"
      },
      "source": [
        "**Visualising Categorical Variables***"
      ]
    },
    {
      "cell_type": "code",
      "metadata": {
        "id": "a4bx7BlTs_dw",
        "colab_type": "code",
        "outputId": "d7e9c98e-c240-48c0-b469-3992e4ae3980",
        "colab": {
          "base_uri": "https://localhost:8080/",
          "height": 369
        }
      },
      "source": [
        "import seaborn as sns \n",
        "sns.catplot(x=\"CKD\",  kind=\"count\", palette=\"ch:.25\", data=data);"
      ],
      "execution_count": 0,
      "outputs": [
        {
          "output_type": "display_data",
          "data": {
            "image/png": "[encoded data removed]",
            "text/plain": [
              "<Figure size 360x360 with 1 Axes>"
            ]
          },
          "metadata": {
            "tags": [],
            "needs_background": "light"
          }
        }
      ]
    },
    {
      "cell_type": "code",
      "metadata": {
        "id": "PdcGYVbKuQte",
        "colab_type": "code",
        "outputId": "73a6011a-eb26-4199-e4ac-e9d14fe8cdb4",
        "colab": {
          "base_uri": "https://localhost:8080/",
          "height": 369
        }
      },
      "source": [
        "sns.catplot(x=\"al\", hue=\"CKD\", kind=\"count\", palette=\"ch:.25\", data=data);"
      ],
      "execution_count": 0,
      "outputs": [
        {
          "output_type": "display_data",
          "data": {
            "image/png": "[encoded data removed]",
            "text/plain": [
              "<Figure size 402.375x360 with 1 Axes>"
            ]
          },
          "metadata": {
            "tags": [],
            "needs_background": "light"
          }
        }
      ]
    },
    {
      "cell_type": "code",
      "metadata": {
        "id": "Q2D9no8Zv7xa",
        "colab_type": "code",
        "outputId": "5eb1dcf1-3e3e-483a-9ec5-45181c3b344b",
        "colab": {
          "base_uri": "https://localhost:8080/",
          "height": 369
        }
      },
      "source": [
        "sns.catplot(x=\"su\", hue=\"CKD\", kind=\"count\", palette=\"ch:.25\", data=data);"
      ],
      "execution_count": 0,
      "outputs": [
        {
          "output_type": "display_data",
          "data": {
            "image/png": "[encoded data removed]",
            "text/plain": [
              "<Figure size 402.375x360 with 1 Axes>"
            ]
          },
          "metadata": {
            "tags": [],
            "needs_background": "light"
          }
        }
      ]
    },
    {
      "cell_type": "code",
      "metadata": {
        "id": "xdtYTsrvwEB7",
        "colab_type": "code",
        "outputId": "1f610dec-f530-42d7-8192-8602c6c05e87",
        "colab": {
          "base_uri": "https://localhost:8080/",
          "height": 369
        }
      },
      "source": [
        "sns.catplot(x=\"sg\", hue=\"CKD\", kind=\"count\", palette=\"ch:.25\", data=data);"
      ],
      "execution_count": 0,
      "outputs": [
        {
          "output_type": "display_data",
          "data": {
            "image/png": "[encoded data removed]",
            "text/plain": [
              "<Figure size 402.375x360 with 1 Axes>"
            ]
          },
          "metadata": {
            "tags": [],
            "needs_background": "light"
          }
        }
      ]
    },
    {
      "cell_type": "code",
      "metadata": {
        "id": "EzSHg4huwI_F",
        "colab_type": "code",
        "outputId": "8b15a36c-d938-443a-c699-47ea34ebbcf5",
        "colab": {
          "base_uri": "https://localhost:8080/",
          "height": 369
        }
      },
      "source": [
        "sns.catplot(x=\"ba\", hue=\"CKD\", kind=\"count\", palette=\"ch:.25\", data=data);"
      ],
      "execution_count": 0,
      "outputs": [
        {
          "output_type": "display_data",
          "data": {
            "image/png": "[encoded data removed]",
            "text/plain": [
              "<Figure size 402.375x360 with 1 Axes>"
            ]
          },
          "metadata": {
            "tags": [],
            "needs_background": "light"
          }
        }
      ]
    },
    {
      "cell_type": "code",
      "metadata": {
        "id": "0r2XImmBwTQW",
        "colab_type": "code",
        "outputId": "1d6b2a68-f2ac-42fd-bdeb-a7bd4db2794c",
        "colab": {
          "base_uri": "https://localhost:8080/",
          "height": 369
        }
      },
      "source": [
        "sns.catplot(x=\"htn\", hue=\"CKD\", kind=\"count\", palette=\"ch:.25\", data=data);"
      ],
      "execution_count": 0,
      "outputs": [
        {
          "output_type": "display_data",
          "data": {
            "image/png": "[encoded data removed]",
            "text/plain": [
              "<Figure size 402.375x360 with 1 Axes>"
            ]
          },
          "metadata": {
            "tags": [],
            "needs_background": "light"
          }
        }
      ]
    },
    {
      "cell_type": "code",
      "metadata": {
        "id": "XEJ77Dxrwca4",
        "colab_type": "code",
        "outputId": "1143ce3f-48ad-4d20-89c0-2dc5cf538445",
        "colab": {
          "base_uri": "https://localhost:8080/",
          "height": 369
        }
      },
      "source": [
        "sns.catplot(x=\"dm\", hue=\"CKD\", kind=\"count\", palette=\"ch:.25\", data=data);"
      ],
      "execution_count": 0,
      "outputs": [
        {
          "output_type": "display_data",
          "data": {
            "image/png": "[encoded data removed]",
            "text/plain": [
              "<Figure size 402.375x360 with 1 Axes>"
            ]
          },
          "metadata": {
            "tags": [],
            "needs_background": "light"
          }
        }
      ]
    },
    {
      "cell_type": "code",
      "metadata": {
        "id": "9WzGRheWwg2C",
        "colab_type": "code",
        "outputId": "08166b00-0242-4e6b-d944-c951ceaa901d",
        "colab": {
          "base_uri": "https://localhost:8080/",
          "height": 369
        }
      },
      "source": [
        "sns.catplot(x=\"cad\", hue=\"CKD\", kind=\"count\", palette=\"ch:.25\", data=data);"
      ],
      "execution_count": 0,
      "outputs": [
        {
          "output_type": "display_data",
          "data": {
            "image/png": "[encoded data removed]",
            "text/plain": [
              "<Figure size 402.375x360 with 1 Axes>"
            ]
          },
          "metadata": {
            "tags": [],
            "needs_background": "light"
          }
        }
      ]
    },
    {
      "cell_type": "code",
      "metadata": {
        "id": "vtcbm7p7wmYV",
        "colab_type": "code",
        "outputId": "d0c6ccf0-2ddd-49c2-b7b7-d89a0010bb9d",
        "colab": {
          "base_uri": "https://localhost:8080/",
          "height": 369
        }
      },
      "source": [
        "sns.catplot(x=\"appet\", hue=\"CKD\", kind=\"count\", palette=\"ch:.25\", data=data);"
      ],
      "execution_count": 0,
      "outputs": [
        {
          "output_type": "display_data",
          "data": {
            "image/png": "[encoded data removed]",
            "text/plain": [
              "<Figure size 402.375x360 with 1 Axes>"
            ]
          },
          "metadata": {
            "tags": [],
            "needs_background": "light"
          }
        }
      ]
    },
    {
      "cell_type": "code",
      "metadata": {
        "id": "cPF-mQpnwnBU",
        "colab_type": "code",
        "outputId": "310a054f-e8c7-4d75-f841-8cfe8fee791b",
        "colab": {
          "base_uri": "https://localhost:8080/",
          "height": 369
        }
      },
      "source": [
        "sns.catplot(x=\"pe\", hue=\"CKD\", kind=\"count\", palette=\"ch:.25\", data=data);"
      ],
      "execution_count": 0,
      "outputs": [
        {
          "output_type": "display_data",
          "data": {
            "image/png": "[encoded data removed]",
            "text/plain": [
              "<Figure size 402.375x360 with 1 Axes>"
            ]
          },
          "metadata": {
            "tags": [],
            "needs_background": "light"
          }
        }
      ]
    },
    {
      "cell_type": "code",
      "metadata": {
        "id": "BsejZ0P_woay",
        "colab_type": "code",
        "outputId": "7335d111-5799-446c-b198-3c5876eed9ea",
        "colab": {
          "base_uri": "https://localhost:8080/",
          "height": 369
        }
      },
      "source": [
        "sns.catplot(x=\"ane\", hue=\"CKD\", kind=\"count\", palette=\"ch:.25\", data=data);"
      ],
      "execution_count": 0,
      "outputs": [
        {
          "output_type": "display_data",
          "data": {
            "image/png": "[encoded data removed]",
            "text/plain": [
              "<Figure size 402.375x360 with 1 Axes>"
            ]
          },
          "metadata": {
            "tags": [],
            "needs_background": "light"
          }
        }
      ]
    },
    {
      "cell_type": "markdown",
      "metadata": {
        "id": "xW-OB9Jrw_6n",
        "colab_type": "text"
      },
      "source": [
        "**Variable Selection** "
      ]
    },
    {
      "cell_type": "code",
      "metadata": {
        "id": "Q-m--21Wxkmb",
        "colab_type": "code",
        "outputId": "eebf8761-1330-43e3-eedf-43af6e4f3c9c",
        "colab": {
          "base_uri": "https://localhost:8080/",
          "height": 286
        }
      },
      "source": [
        "corr = data.corr()\n",
        "ax = sns.heatmap(\n",
        "    corr, \n",
        "    vmin=-1, vmax=1, center=0,\n",
        "    cmap=sns.diverging_palette(20, 220, n=200),\n",
        "    square=True\n",
        ")\n",
        "ax.set_xticklabels(\n",
        "    ax.get_xticklabels(),\n",
        "    rotation=45,\n",
        "    horizontalalignment='right'\n",
        ");"
      ],
      "execution_count": 0,
      "outputs": [
        {
          "output_type": "display_data",
          "data": {
            "image/png": "[encoded data removed]",
            "text/plain": [
              "<Figure size 432x288 with 2 Axes>"
            ]
          },
          "metadata": {
            "tags": [],
            "needs_background": "light"
          }
        }
      ]
    },
    {
      "cell_type": "code",
      "metadata": {
        "id": "l7O83oDOxH1e",
        "colab_type": "code",
        "colab": {}
      },
      "source": [
        "# Drop correlated variables\n",
        "data = data.drop('su',axis=1)\n",
        "data = data.drop('pc',axis=1)\n",
        "data = data.drop('pcv',axis=1)\n",
        "data = data.drop('rc',axis=1)\n",
        "data = data.drop('rbc',axis=1)\n"
      ],
      "execution_count": 0,
      "outputs": []
    },
    {
      "cell_type": "markdown",
      "metadata": {
        "colab_type": "text",
        "id": "zRI994jzj1s_"
      },
      "source": [
        "**Encoding Categorical Values**"
      ]
    },
    {
      "cell_type": "code",
      "metadata": {
        "id": "fs6sG2r2j37h",
        "colab_type": "code",
        "colab": {}
      },
      "source": [
        "# Label encoding \n",
        "from sklearn.preprocessing import LabelEncoder\n",
        "labelencoder = LabelEncoder()\n",
        "\n",
        "for label in ['sg' ,'al', 'pcc','ba',\n",
        "            'htn','dm', 'cad', 'appet', 'pe', 'ane', 'CKD']:\n",
        "  data[label]=labelencoder.fit_transform(data[label])"
      ],
      "execution_count": 0,
      "outputs": []
    },
    {
      "cell_type": "markdown",
      "metadata": {
        "id": "Obv7Ud4--Q2N",
        "colab_type": "text"
      },
      "source": [
        "**Visualising the distribution of the data**"
      ]
    },
    {
      "cell_type": "code",
      "metadata": {
        "id": "FiuEuHCvw2zj",
        "colab_type": "code",
        "outputId": "afff7fd9-50e3-49cb-b38d-9829061e8b00",
        "colab": {
          "base_uri": "https://localhost:8080/",
          "height": 1000
        }
      },
      "source": [
        "# Let's investigate the distribution \n",
        "FEATURES = ['bp', 'bgr','bu','sod','sc', 'pot', 'hemo','age','wc']\n",
        "CKD = data['CKD'] == 1\n",
        "\n",
        "fig, axes = plt.subplots(ncols=3, nrows=len(FEATURES)//3, figsize=(15, 20), dpi=100)\n",
        "\n",
        "for i, feature in enumerate(FEATURES):\n",
        "  row = i//3\n",
        "  col = i%3\n",
        "  sns.distplot(data.loc[~CKD][feature], label='Not CKD', ax=axes[row][col], color='green')\n",
        "  sns.distplot(data.loc[CKD][feature], label='CKD', ax=axes[row][col], color='red')\n",
        "\n",
        "  axes[row][col].set_xlabel('')\n",
        "  axes[row][col].tick_params(axis='x', labelsize=12)\n",
        "  axes[row][col].tick_params(axis='y', labelsize=12)\n",
        "  axes[row][col].legend()\n",
        "    \n",
        "  axes[row][col].set_title(feature)\n",
        "  axes[row][col].set_title(feature)\n",
        "\n",
        "plt.show()"
      ],
      "execution_count": 0,
      "outputs": [
        {
          "output_type": "display_data",
          "data": {
            "image/png": "[encoded data removed]",
            "text/plain": [
              "<Figure size 1500x2000 with 9 Axes>"
            ]
          },
          "metadata": {
            "tags": [],
            "needs_background": "light"
          }
        }
      ]
    },
    {
      "cell_type": "code",
      "metadata": {
        "id": "MvYsphdlURJa",
        "colab_type": "code",
        "colab": {}
      },
      "source": [
        "# Save CSV \n",
        "from google.colab import files\n",
        "data.to_csv('ckd.csv')\n",
        "files.download('ckd.csv')"
      ],
      "execution_count": 0,
      "outputs": []
    },
    {
      "cell_type": "markdown",
      "metadata": {
        "id": "mK8NP2AYitPr",
        "colab_type": "text"
      },
      "source": [
        "# III. Data Analysis: Unsupervised Learning "
      ]
    },
    {
      "cell_type": "code",
      "metadata": {
        "id": "0u6JCmidUNDg",
        "colab_type": "code",
        "colab": {
          "base_uri": "https://localhost:8080/",
          "height": 439
        },
        "outputId": "38288de3-e4bb-4f85-de38-c638f87cdffa"
      },
      "source": [
        "import pandas as pd\n",
        "\n",
        "data = pd.read_csv('ckd.csv')\n",
        "data = data.drop('Unnamed: 0', axis = 1)\n",
        "data"
      ],
      "execution_count": 4,
      "outputs": [
        {
          "output_type": "execute_result",
          "data": {
            "text/html": [
              "<div>\n",
              "<style scoped>\n",
              "    .dataframe tbody tr th:only-of-type {\n",
              "        vertical-align: middle;\n",
              "    }\n",
              "\n",
              "    .dataframe tbody tr th {\n",
              "        vertical-align: top;\n",
              "    }\n",
              "\n",
              "    .dataframe thead th {\n",
              "        text-align: right;\n",
              "    }\n",
              "</style>\n",
              "<table border=\"1\" class=\"dataframe\">\n",
              "  <thead>\n",
              "    <tr style=\"text-align: right;\">\n",
              "      <th></th>\n",
              "      <th>id</th>\n",
              "      <th>age</th>\n",
              "      <th>bp</th>\n",
              "      <th>sg</th>\n",
              "      <th>al</th>\n",
              "      <th>pcc</th>\n",
              "      <th>ba</th>\n",
              "      <th>bgr</th>\n",
              "      <th>bu</th>\n",
              "      <th>sc</th>\n",
              "      <th>sod</th>\n",
              "      <th>pot</th>\n",
              "      <th>hemo</th>\n",
              "      <th>wc</th>\n",
              "      <th>htn</th>\n",
              "      <th>dm</th>\n",
              "      <th>cad</th>\n",
              "      <th>appet</th>\n",
              "      <th>pe</th>\n",
              "      <th>ane</th>\n",
              "      <th>CKD</th>\n",
              "    </tr>\n",
              "  </thead>\n",
              "  <tbody>\n",
              "    <tr>\n",
              "      <th>0</th>\n",
              "      <td>0</td>\n",
              "      <td>48.0</td>\n",
              "      <td>80.0</td>\n",
              "      <td>3</td>\n",
              "      <td>1</td>\n",
              "      <td>0</td>\n",
              "      <td>0</td>\n",
              "      <td>121.000000</td>\n",
              "      <td>36.0</td>\n",
              "      <td>1.2</td>\n",
              "      <td>137.528754</td>\n",
              "      <td>4.627244</td>\n",
              "      <td>15.4</td>\n",
              "      <td>7800.0</td>\n",
              "      <td>1</td>\n",
              "      <td>1</td>\n",
              "      <td>0</td>\n",
              "      <td>1</td>\n",
              "      <td>0</td>\n",
              "      <td>0</td>\n",
              "      <td>1</td>\n",
              "    </tr>\n",
              "    <tr>\n",
              "      <th>1</th>\n",
              "      <td>1</td>\n",
              "      <td>7.0</td>\n",
              "      <td>50.0</td>\n",
              "      <td>3</td>\n",
              "      <td>4</td>\n",
              "      <td>0</td>\n",
              "      <td>0</td>\n",
              "      <td>148.036517</td>\n",
              "      <td>18.0</td>\n",
              "      <td>0.8</td>\n",
              "      <td>137.528754</td>\n",
              "      <td>4.627244</td>\n",
              "      <td>11.3</td>\n",
              "      <td>6000.0</td>\n",
              "      <td>0</td>\n",
              "      <td>0</td>\n",
              "      <td>0</td>\n",
              "      <td>1</td>\n",
              "      <td>0</td>\n",
              "      <td>0</td>\n",
              "      <td>1</td>\n",
              "    </tr>\n",
              "    <tr>\n",
              "      <th>2</th>\n",
              "      <td>2</td>\n",
              "      <td>62.0</td>\n",
              "      <td>80.0</td>\n",
              "      <td>1</td>\n",
              "      <td>2</td>\n",
              "      <td>0</td>\n",
              "      <td>0</td>\n",
              "      <td>423.000000</td>\n",
              "      <td>53.0</td>\n",
              "      <td>1.8</td>\n",
              "      <td>137.528754</td>\n",
              "      <td>4.627244</td>\n",
              "      <td>9.6</td>\n",
              "      <td>7500.0</td>\n",
              "      <td>0</td>\n",
              "      <td>1</td>\n",
              "      <td>0</td>\n",
              "      <td>0</td>\n",
              "      <td>0</td>\n",
              "      <td>1</td>\n",
              "      <td>1</td>\n",
              "    </tr>\n",
              "    <tr>\n",
              "      <th>3</th>\n",
              "      <td>3</td>\n",
              "      <td>48.0</td>\n",
              "      <td>70.0</td>\n",
              "      <td>0</td>\n",
              "      <td>4</td>\n",
              "      <td>1</td>\n",
              "      <td>0</td>\n",
              "      <td>117.000000</td>\n",
              "      <td>56.0</td>\n",
              "      <td>3.8</td>\n",
              "      <td>111.000000</td>\n",
              "      <td>2.500000</td>\n",
              "      <td>11.2</td>\n",
              "      <td>6700.0</td>\n",
              "      <td>1</td>\n",
              "      <td>0</td>\n",
              "      <td>0</td>\n",
              "      <td>0</td>\n",
              "      <td>1</td>\n",
              "      <td>1</td>\n",
              "      <td>1</td>\n",
              "    </tr>\n",
              "    <tr>\n",
              "      <th>4</th>\n",
              "      <td>4</td>\n",
              "      <td>51.0</td>\n",
              "      <td>80.0</td>\n",
              "      <td>1</td>\n",
              "      <td>2</td>\n",
              "      <td>0</td>\n",
              "      <td>0</td>\n",
              "      <td>106.000000</td>\n",
              "      <td>26.0</td>\n",
              "      <td>1.4</td>\n",
              "      <td>137.528754</td>\n",
              "      <td>4.627244</td>\n",
              "      <td>11.6</td>\n",
              "      <td>7300.0</td>\n",
              "      <td>0</td>\n",
              "      <td>0</td>\n",
              "      <td>0</td>\n",
              "      <td>1</td>\n",
              "      <td>0</td>\n",
              "      <td>0</td>\n",
              "      <td>1</td>\n",
              "    </tr>\n",
              "    <tr>\n",
              "      <th>...</th>\n",
              "      <td>...</td>\n",
              "      <td>...</td>\n",
              "      <td>...</td>\n",
              "      <td>...</td>\n",
              "      <td>...</td>\n",
              "      <td>...</td>\n",
              "      <td>...</td>\n",
              "      <td>...</td>\n",
              "      <td>...</td>\n",
              "      <td>...</td>\n",
              "      <td>...</td>\n",
              "      <td>...</td>\n",
              "      <td>...</td>\n",
              "      <td>...</td>\n",
              "      <td>...</td>\n",
              "      <td>...</td>\n",
              "      <td>...</td>\n",
              "      <td>...</td>\n",
              "      <td>...</td>\n",
              "      <td>...</td>\n",
              "      <td>...</td>\n",
              "    </tr>\n",
              "    <tr>\n",
              "      <th>395</th>\n",
              "      <td>395</td>\n",
              "      <td>55.0</td>\n",
              "      <td>80.0</td>\n",
              "      <td>3</td>\n",
              "      <td>0</td>\n",
              "      <td>0</td>\n",
              "      <td>0</td>\n",
              "      <td>140.000000</td>\n",
              "      <td>49.0</td>\n",
              "      <td>0.5</td>\n",
              "      <td>150.000000</td>\n",
              "      <td>4.900000</td>\n",
              "      <td>15.7</td>\n",
              "      <td>6700.0</td>\n",
              "      <td>0</td>\n",
              "      <td>0</td>\n",
              "      <td>0</td>\n",
              "      <td>1</td>\n",
              "      <td>0</td>\n",
              "      <td>0</td>\n",
              "      <td>0</td>\n",
              "    </tr>\n",
              "    <tr>\n",
              "      <th>396</th>\n",
              "      <td>396</td>\n",
              "      <td>42.0</td>\n",
              "      <td>70.0</td>\n",
              "      <td>4</td>\n",
              "      <td>0</td>\n",
              "      <td>0</td>\n",
              "      <td>0</td>\n",
              "      <td>75.000000</td>\n",
              "      <td>31.0</td>\n",
              "      <td>1.2</td>\n",
              "      <td>141.000000</td>\n",
              "      <td>3.500000</td>\n",
              "      <td>16.5</td>\n",
              "      <td>7800.0</td>\n",
              "      <td>0</td>\n",
              "      <td>0</td>\n",
              "      <td>0</td>\n",
              "      <td>1</td>\n",
              "      <td>0</td>\n",
              "      <td>0</td>\n",
              "      <td>0</td>\n",
              "    </tr>\n",
              "    <tr>\n",
              "      <th>397</th>\n",
              "      <td>397</td>\n",
              "      <td>12.0</td>\n",
              "      <td>80.0</td>\n",
              "      <td>3</td>\n",
              "      <td>0</td>\n",
              "      <td>0</td>\n",
              "      <td>0</td>\n",
              "      <td>100.000000</td>\n",
              "      <td>26.0</td>\n",
              "      <td>0.6</td>\n",
              "      <td>137.000000</td>\n",
              "      <td>4.400000</td>\n",
              "      <td>15.8</td>\n",
              "      <td>6600.0</td>\n",
              "      <td>0</td>\n",
              "      <td>0</td>\n",
              "      <td>0</td>\n",
              "      <td>1</td>\n",
              "      <td>0</td>\n",
              "      <td>0</td>\n",
              "      <td>0</td>\n",
              "    </tr>\n",
              "    <tr>\n",
              "      <th>398</th>\n",
              "      <td>398</td>\n",
              "      <td>17.0</td>\n",
              "      <td>60.0</td>\n",
              "      <td>4</td>\n",
              "      <td>0</td>\n",
              "      <td>0</td>\n",
              "      <td>0</td>\n",
              "      <td>114.000000</td>\n",
              "      <td>50.0</td>\n",
              "      <td>1.0</td>\n",
              "      <td>135.000000</td>\n",
              "      <td>4.900000</td>\n",
              "      <td>14.2</td>\n",
              "      <td>7200.0</td>\n",
              "      <td>0</td>\n",
              "      <td>0</td>\n",
              "      <td>0</td>\n",
              "      <td>1</td>\n",
              "      <td>0</td>\n",
              "      <td>0</td>\n",
              "      <td>0</td>\n",
              "    </tr>\n",
              "    <tr>\n",
              "      <th>399</th>\n",
              "      <td>399</td>\n",
              "      <td>58.0</td>\n",
              "      <td>80.0</td>\n",
              "      <td>4</td>\n",
              "      <td>0</td>\n",
              "      <td>0</td>\n",
              "      <td>0</td>\n",
              "      <td>131.000000</td>\n",
              "      <td>18.0</td>\n",
              "      <td>1.1</td>\n",
              "      <td>141.000000</td>\n",
              "      <td>3.500000</td>\n",
              "      <td>15.8</td>\n",
              "      <td>6800.0</td>\n",
              "      <td>0</td>\n",
              "      <td>0</td>\n",
              "      <td>0</td>\n",
              "      <td>1</td>\n",
              "      <td>0</td>\n",
              "      <td>0</td>\n",
              "      <td>0</td>\n",
              "    </tr>\n",
              "  </tbody>\n",
              "</table>\n",
              "<p>400 rows × 21 columns</p>\n",
              "</div>"
            ],
            "text/plain": [
              "      id   age    bp  sg  al  pcc  ba  ...  htn  dm  cad  appet  pe  ane  CKD\n",
              "0      0  48.0  80.0   3   1    0   0  ...    1   1    0      1   0    0    1\n",
              "1      1   7.0  50.0   3   4    0   0  ...    0   0    0      1   0    0    1\n",
              "2      2  62.0  80.0   1   2    0   0  ...    0   1    0      0   0    1    1\n",
              "3      3  48.0  70.0   0   4    1   0  ...    1   0    0      0   1    1    1\n",
              "4      4  51.0  80.0   1   2    0   0  ...    0   0    0      1   0    0    1\n",
              "..   ...   ...   ...  ..  ..  ...  ..  ...  ...  ..  ...    ...  ..  ...  ...\n",
              "395  395  55.0  80.0   3   0    0   0  ...    0   0    0      1   0    0    0\n",
              "396  396  42.0  70.0   4   0    0   0  ...    0   0    0      1   0    0    0\n",
              "397  397  12.0  80.0   3   0    0   0  ...    0   0    0      1   0    0    0\n",
              "398  398  17.0  60.0   4   0    0   0  ...    0   0    0      1   0    0    0\n",
              "399  399  58.0  80.0   4   0    0   0  ...    0   0    0      1   0    0    0\n",
              "\n",
              "[400 rows x 21 columns]"
            ]
          },
          "metadata": {
            "tags": []
          },
          "execution_count": 4
        }
      ]
    },
    {
      "cell_type": "code",
      "metadata": {
        "id": "BZLIag6XVXMY",
        "colab_type": "code",
        "colab": {}
      },
      "source": [
        "data = data.drop('id', axis = 1)"
      ],
      "execution_count": 0,
      "outputs": []
    },
    {
      "cell_type": "markdown",
      "metadata": {
        "id": "jNVfeYgKpLPa",
        "colab_type": "text"
      },
      "source": [
        "**Standardising the data**"
      ]
    },
    {
      "cell_type": "code",
      "metadata": {
        "id": "qob6mtlMpR2m",
        "colab_type": "code",
        "outputId": "ffdf77a7-3224-45fe-d337-612f784e7115",
        "colab": {
          "base_uri": "https://localhost:8080/",
          "height": 238
        }
      },
      "source": [
        "# standardizing the data\n",
        "from sklearn.preprocessing import StandardScaler\n",
        "scaler = StandardScaler()\n",
        "data_scaled = scaler.fit_transform(data)\n",
        "\n",
        "data_scaled"
      ],
      "execution_count": 13,
      "outputs": [
        {
          "output_type": "execute_result",
          "data": {
            "text/plain": [
              "array([[-0.20546364,  0.26233836,  0.4214856 , ..., -0.4843221 ,\n",
              "        -0.42008403,  0.78288136],\n",
              "       [-2.62380991, -1.96658024,  0.4214856 , ..., -0.4843221 ,\n",
              "        -0.42008403,  0.78288136],\n",
              "       [ 0.62031314,  0.26233836, -1.4210744 , ..., -0.4843221 ,\n",
              "         2.38047614,  0.78288136],\n",
              "       ...,\n",
              "       [-2.32888964,  0.26233836,  0.4214856 , ..., -0.4843221 ,\n",
              "        -0.42008403, -1.27733275],\n",
              "       [-2.03396936, -1.22360737,  1.3427656 , ..., -0.4843221 ,\n",
              "        -0.42008403, -1.27733275],\n",
              "       [ 0.38437691,  0.26233836,  1.3427656 , ..., -0.4843221 ,\n",
              "        -0.42008403, -1.27733275]])"
            ]
          },
          "metadata": {
            "tags": []
          },
          "execution_count": 13
        }
      ]
    },
    {
      "cell_type": "markdown",
      "metadata": {
        "id": "e6x7iF1gqTu4",
        "colab_type": "text"
      },
      "source": [
        "**Perform PCA with 2 components**"
      ]
    },
    {
      "cell_type": "code",
      "metadata": {
        "id": "0yQrwtS2qI6t",
        "colab_type": "code",
        "colab": {}
      },
      "source": [
        "# Create a PCA model to reduce our data to 2 dimensions for visualisation\n",
        "from sklearn.decomposition import PCA\n",
        "pca = PCA(n_components=2)\n",
        "pca.fit(data_scaled)\n",
        "\n",
        "# Transfor the scaled data to the new PCA space\n",
        "data_reduced = pca.transform(data_scaled)"
      ],
      "execution_count": 0,
      "outputs": []
    },
    {
      "cell_type": "markdown",
      "metadata": {
        "id": "dgbnauC5r1Wz",
        "colab_type": "text"
      },
      "source": [
        "**Finding the number of clusters K - The Elbow method**"
      ]
    },
    {
      "cell_type": "code",
      "metadata": {
        "id": "xehLA70XryjZ",
        "colab_type": "code",
        "outputId": "79dd84a9-88e8-43ca-d4a3-d7640641da23",
        "colab": {
          "base_uri": "https://localhost:8080/",
          "height": 279
        }
      },
      "source": [
        "import matplotlib.pyplot as plt\n",
        "\n",
        "from sklearn.cluster import KMeans\n",
        "kls = range(1, 10)\n",
        "# Inertia can be recognized as a measure of how internally coherent clusters are.\n",
        "inertias = []\n",
        "for k in kls:\n",
        "    kmeans = KMeans(n_clusters=k)\n",
        "    \n",
        "    # Fit model to samples\n",
        "    kmeans.fit(data_reduced[:,:3])\n",
        "    \n",
        "    # Append the inertia to the list of inertias\n",
        "    inertias.append(kmeans.inertia_)\n",
        "    \n",
        "plt.plot(kls, inertias, '-o', color='black')\n",
        "plt.xlabel('number of clusters, k')\n",
        "plt.ylabel('inertia')\n",
        "plt.xticks(kls)\n",
        "plt.show()"
      ],
      "execution_count": 15,
      "outputs": [
        {
          "output_type": "display_data",
          "data": {
            "image/png": "[encoded data removed]",
            "text/plain": [
              "<Figure size 432x288 with 1 Axes>"
            ]
          },
          "metadata": {
            "tags": [],
            "needs_background": "light"
          }
        }
      ]
    },
    {
      "cell_type": "markdown",
      "metadata": {
        "id": "a1_ojmwfpgPT",
        "colab_type": "text"
      },
      "source": [
        "**K-means Clustering**"
      ]
    },
    {
      "cell_type": "code",
      "metadata": {
        "id": "SJt_goQMpo0x",
        "colab_type": "code",
        "colab": {}
      },
      "source": [
        "# Create a k-means clustering model\n",
        "kmeans = KMeans(init='random', n_clusters=4, n_init=10, random_state=0)\n",
        "\n",
        "# Fit the data to the model\n",
        "kmeans.fit(data_scaled)\n",
        "\n",
        "# Determine which clusters each data point belongs to:\n",
        "clusters =  kmeans.predict(data_scaled)"
      ],
      "execution_count": 0,
      "outputs": []
    },
    {
      "cell_type": "code",
      "metadata": {
        "id": "Y31QxwTxpxo3",
        "colab_type": "code",
        "outputId": "3d1af826-f1dc-4c62-ce34-97a3fcfaa8a1",
        "colab": {
          "base_uri": "https://localhost:8080/",
          "height": 309
        }
      },
      "source": [
        "# Add cluster number to the original data\n",
        "data_scaled_clustered = pd.DataFrame(data_scaled, columns=data.columns, index=data.index)\n",
        "data_scaled_clustered['cluster'] = clusters\n",
        "\n",
        "data_scaled_clustered.head()"
      ],
      "execution_count": 23,
      "outputs": [
        {
          "output_type": "execute_result",
          "data": {
            "text/html": [
              "<div>\n",
              "<style scoped>\n",
              "    .dataframe tbody tr th:only-of-type {\n",
              "        vertical-align: middle;\n",
              "    }\n",
              "\n",
              "    .dataframe tbody tr th {\n",
              "        vertical-align: top;\n",
              "    }\n",
              "\n",
              "    .dataframe thead th {\n",
              "        text-align: right;\n",
              "    }\n",
              "</style>\n",
              "<table border=\"1\" class=\"dataframe\">\n",
              "  <thead>\n",
              "    <tr style=\"text-align: right;\">\n",
              "      <th></th>\n",
              "      <th>age</th>\n",
              "      <th>bp</th>\n",
              "      <th>sg</th>\n",
              "      <th>al</th>\n",
              "      <th>pcc</th>\n",
              "      <th>ba</th>\n",
              "      <th>bgr</th>\n",
              "      <th>bu</th>\n",
              "      <th>sc</th>\n",
              "      <th>sod</th>\n",
              "      <th>pot</th>\n",
              "      <th>hemo</th>\n",
              "      <th>wc</th>\n",
              "      <th>htn</th>\n",
              "      <th>dm</th>\n",
              "      <th>cad</th>\n",
              "      <th>appet</th>\n",
              "      <th>pe</th>\n",
              "      <th>ane</th>\n",
              "      <th>CKD</th>\n",
              "      <th>cluster</th>\n",
              "    </tr>\n",
              "  </thead>\n",
              "  <tbody>\n",
              "    <tr>\n",
              "      <th>0</th>\n",
              "      <td>-0.205464</td>\n",
              "      <td>0.262338</td>\n",
              "      <td>0.421486</td>\n",
              "      <td>0.076249</td>\n",
              "      <td>-0.342518</td>\n",
              "      <td>-0.241249</td>\n",
              "      <td>-0.361987</td>\n",
              "      <td>-0.435268</td>\n",
              "      <td>-0.333743</td>\n",
              "      <td>0.000000</td>\n",
              "      <td>6.307513e-16</td>\n",
              "      <td>1.059271</td>\n",
              "      <td>-0.237519</td>\n",
              "      <td>1.311903</td>\n",
              "      <td>1.385535</td>\n",
              "      <td>-0.304789</td>\n",
              "      <td>0.507801</td>\n",
              "      <td>-0.484322</td>\n",
              "      <td>-0.420084</td>\n",
              "      <td>0.782881</td>\n",
              "      <td>1</td>\n",
              "    </tr>\n",
              "    <tr>\n",
              "      <th>1</th>\n",
              "      <td>-2.623810</td>\n",
              "      <td>-1.966580</td>\n",
              "      <td>0.421486</td>\n",
              "      <td>2.363728</td>\n",
              "      <td>-0.342518</td>\n",
              "      <td>-0.241249</td>\n",
              "      <td>0.000000</td>\n",
              "      <td>-0.800941</td>\n",
              "      <td>-0.405039</td>\n",
              "      <td>0.000000</td>\n",
              "      <td>6.307513e-16</td>\n",
              "      <td>-0.452097</td>\n",
              "      <td>-0.951778</td>\n",
              "      <td>-0.762252</td>\n",
              "      <td>-0.721743</td>\n",
              "      <td>-0.304789</td>\n",
              "      <td>0.507801</td>\n",
              "      <td>-0.484322</td>\n",
              "      <td>-0.420084</td>\n",
              "      <td>0.782881</td>\n",
              "      <td>2</td>\n",
              "    </tr>\n",
              "    <tr>\n",
              "      <th>2</th>\n",
              "      <td>0.620313</td>\n",
              "      <td>0.262338</td>\n",
              "      <td>-1.421074</td>\n",
              "      <td>0.838742</td>\n",
              "      <td>-0.342518</td>\n",
              "      <td>-0.241249</td>\n",
              "      <td>3.681441</td>\n",
              "      <td>-0.089909</td>\n",
              "      <td>-0.226800</td>\n",
              "      <td>0.000000</td>\n",
              "      <td>6.307513e-16</td>\n",
              "      <td>-1.078762</td>\n",
              "      <td>-0.356562</td>\n",
              "      <td>-0.762252</td>\n",
              "      <td>1.385535</td>\n",
              "      <td>-0.304789</td>\n",
              "      <td>-1.969276</td>\n",
              "      <td>-0.484322</td>\n",
              "      <td>2.380476</td>\n",
              "      <td>0.782881</td>\n",
              "      <td>1</td>\n",
              "    </tr>\n",
              "    <tr>\n",
              "      <th>3</th>\n",
              "      <td>-0.205464</td>\n",
              "      <td>-0.480635</td>\n",
              "      <td>-2.342354</td>\n",
              "      <td>2.363728</td>\n",
              "      <td>2.919556</td>\n",
              "      <td>-0.241249</td>\n",
              "      <td>-0.415543</td>\n",
              "      <td>-0.028964</td>\n",
              "      <td>0.129677</td>\n",
              "      <td>-2.885831</td>\n",
              "      <td>-7.553446e-01</td>\n",
              "      <td>-0.488960</td>\n",
              "      <td>-0.674011</td>\n",
              "      <td>1.311903</td>\n",
              "      <td>-0.721743</td>\n",
              "      <td>-0.304789</td>\n",
              "      <td>-1.969276</td>\n",
              "      <td>2.064742</td>\n",
              "      <td>2.380476</td>\n",
              "      <td>0.782881</td>\n",
              "      <td>3</td>\n",
              "    </tr>\n",
              "    <tr>\n",
              "      <th>4</th>\n",
              "      <td>-0.028511</td>\n",
              "      <td>0.262338</td>\n",
              "      <td>-1.421074</td>\n",
              "      <td>0.838742</td>\n",
              "      <td>-0.342518</td>\n",
              "      <td>-0.241249</td>\n",
              "      <td>-0.562820</td>\n",
              "      <td>-0.638420</td>\n",
              "      <td>-0.298096</td>\n",
              "      <td>0.000000</td>\n",
              "      <td>6.307513e-16</td>\n",
              "      <td>-0.341509</td>\n",
              "      <td>-0.435924</td>\n",
              "      <td>-0.762252</td>\n",
              "      <td>-0.721743</td>\n",
              "      <td>-0.304789</td>\n",
              "      <td>0.507801</td>\n",
              "      <td>-0.484322</td>\n",
              "      <td>-0.420084</td>\n",
              "      <td>0.782881</td>\n",
              "      <td>1</td>\n",
              "    </tr>\n",
              "  </tbody>\n",
              "</table>\n",
              "</div>"
            ],
            "text/plain": [
              "        age        bp        sg  ...       ane       CKD  cluster\n",
              "0 -0.205464  0.262338  0.421486  ... -0.420084  0.782881        1\n",
              "1 -2.623810 -1.966580  0.421486  ... -0.420084  0.782881        2\n",
              "2  0.620313  0.262338 -1.421074  ...  2.380476  0.782881        1\n",
              "3 -0.205464 -0.480635 -2.342354  ...  2.380476  0.782881        3\n",
              "4 -0.028511  0.262338 -1.421074  ... -0.420084  0.782881        1\n",
              "\n",
              "[5 rows x 21 columns]"
            ]
          },
          "metadata": {
            "tags": []
          },
          "execution_count": 23
        }
      ]
    },
    {
      "cell_type": "code",
      "metadata": {
        "id": "0TU8ic8Xqk2O",
        "colab_type": "code",
        "colab": {}
      },
      "source": [
        "# Apply PCA transformation to the centroid\n",
        "centres_reduced = pca.transform(kmeans.cluster_centers_)"
      ],
      "execution_count": 0,
      "outputs": []
    },
    {
      "cell_type": "markdown",
      "metadata": {
        "id": "8_iU8S3qrnhj",
        "colab_type": "text"
      },
      "source": [
        "**Plotting the clusters**"
      ]
    },
    {
      "cell_type": "markdown",
      "metadata": {
        "id": "tquZFYm_upGJ",
        "colab_type": "text"
      },
      "source": [
        "The function \"display_factorial_planes\" is provided by OpenClassroom. Go to section IV. Appendix and run the code under \"Functions from OpenClassroom for cluster visualisation\" before proceeding."
      ]
    },
    {
      "cell_type": "code",
      "metadata": {
        "id": "V2GbG7MmrrA4",
        "colab_type": "code",
        "outputId": "f06944e9-6921-4e7e-b7db-1f734b2bbf39",
        "colab": {
          "base_uri": "https://localhost:8080/",
          "height": 404
        }
      },
      "source": [
        "display_factorial_planes(data_reduced, 2, pca, [(0,1)], illustrative_var = clusters, alpha = 0.8)\n",
        "plt.scatter(centres_reduced[:, 0], centres_reduced[:, 1],\n",
        "            marker='x', s=169, linewidths=3,\n",
        "            color='k', zorder=10)\n",
        "plt.show()"
      ],
      "execution_count": 25,
      "outputs": [
        {
          "output_type": "display_data",
          "data": {
            "image/png": "[encoded data removed]",
            "text/plain": [
              "<Figure size 504x432 with 1 Axes>"
            ]
          },
          "metadata": {
            "tags": [],
            "needs_background": "light"
          }
        }
      ]
    },
    {
      "cell_type": "markdown",
      "metadata": {
        "id": "Z3QMqCqTsIaO",
        "colab_type": "text"
      },
      "source": [
        "**Interpreting the clusters**"
      ]
    },
    {
      "cell_type": "code",
      "metadata": {
        "id": "ZfQUUECrsHic",
        "colab_type": "code",
        "outputId": "f2de303d-dc14-4d5a-d49f-6c13f9217bd5",
        "colab": {
          "base_uri": "https://localhost:8080/",
          "height": 372
        }
      },
      "source": [
        "# Create a data frame containing our centroids\n",
        "centroids = pd.DataFrame(kmeans.cluster_centers_, columns=data.columns)\n",
        "centroids['cluster'] = centroids.index\n",
        "\n",
        "display_parallel_coordinates_centroids(centroids, 10)"
      ],
      "execution_count": 26,
      "outputs": [
        {
          "output_type": "display_data",
          "data": {
            "image/png": "[encoded data removed]",
            "text/plain": [
              "<Figure size 864x360 with 1 Axes>"
            ]
          },
          "metadata": {
            "tags": [],
            "needs_background": "light"
          }
        }
      ]
    },
    {
      "cell_type": "markdown",
      "metadata": {
        "id": "ebYcKgFHg1CO",
        "colab_type": "text"
      },
      "source": [
        "**Investigating variable of importance**"
      ]
    },
    {
      "cell_type": "code",
      "metadata": {
        "id": "PAT14DeispXn",
        "colab_type": "code",
        "colab": {}
      },
      "source": [
        "from sklearn.inspection import permutation_importance\n",
        "perm_test = permutation_importance(kmeans,data_scaled, None, n_repeats=10,\n",
        "                                random_state=42, n_jobs=2)"
      ],
      "execution_count": 0,
      "outputs": []
    },
    {
      "cell_type": "code",
      "metadata": {
        "id": "Ef4hBiA2srbk",
        "colab_type": "code",
        "colab": {}
      },
      "source": [
        "# function for creating a feature importance dataframe\n",
        "def imp_df(column_names, importances):\n",
        "    df = pd.DataFrame({'feature': column_names,\n",
        "                       'feature_importance': importances}) \\\n",
        "           .sort_values('feature_importance', ascending = False) \\\n",
        "           .reset_index(drop = True)\n",
        "    return df\n",
        "\n",
        "# plotting a feature importance dataframe (horizontal barchart)\n",
        "def var_imp_plot(imp_df, title):\n",
        "    imp_df.columns = ['feature', 'feature_importance']\n",
        "    sns.barplot(x = 'feature_importance', y = 'feature', data = imp_df, orient = 'h', color = 'pink') \\\n",
        "       .set_title(title, fontsize = 20)"
      ],
      "execution_count": 0,
      "outputs": []
    },
    {
      "cell_type": "code",
      "metadata": {
        "id": "rHhrx0p0sulE",
        "colab_type": "code",
        "outputId": "551cdb4a-7773-4e6b-ae0c-d7e1e71a8cb9",
        "colab": {
          "base_uri": "https://localhost:8080/",
          "height": 301
        }
      },
      "source": [
        "perm_test_imp = imp_df(data.columns, perm_test.importances_mean)\n",
        "var_imp_plot(perm_test_imp, 'Permutation feature importance')"
      ],
      "execution_count": 34,
      "outputs": [
        {
          "output_type": "display_data",
          "data": {
            "image/png": "[encoded data removed]",
            "text/plain": [
              "<Figure size 432x288 with 1 Axes>"
            ]
          },
          "metadata": {
            "tags": [],
            "needs_background": "light"
          }
        }
      ]
    },
    {
      "cell_type": "markdown",
      "metadata": {
        "id": "YwgMU7I1sRLC",
        "colab_type": "text"
      },
      "source": [
        "**Repreating the analysis after filtering the outliers**"
      ]
    },
    {
      "cell_type": "code",
      "metadata": {
        "id": "cXxwKGW3siEB",
        "colab_type": "code",
        "colab": {}
      },
      "source": [
        "dataSD = data_scaled_clustered.copy()\n",
        "dataSD = dataSD.drop('cluster', axis =1)"
      ],
      "execution_count": 0,
      "outputs": []
    },
    {
      "cell_type": "code",
      "metadata": {
        "id": "1VusTDSCsQHH",
        "colab_type": "code",
        "outputId": "0de34512-fea5-4570-feb5-d0ef78b1a082",
        "colab": {
          "base_uri": "https://localhost:8080/",
          "height": 34
        }
      },
      "source": [
        "from scipy import stats\n",
        "z = np.abs(stats.zscore(dataSD))\n",
        "threshold = 3\n",
        "DF = dataSD[(z < 3).all(axis=1)]\n",
        "DF.shape"
      ],
      "execution_count": 36,
      "outputs": [
        {
          "output_type": "execute_result",
          "data": {
            "text/plain": [
              "(325, 20)"
            ]
          },
          "metadata": {
            "tags": []
          },
          "execution_count": 36
        }
      ]
    },
    {
      "cell_type": "code",
      "metadata": {
        "id": "Y6TYVLYhVM9Q",
        "colab_type": "code",
        "colab": {}
      },
      "source": [
        "# standardizing the data\n",
        "scaler_R = StandardScaler()\n",
        "data_scaled_R = scaler.fit_transform(DF)\n",
        "\n",
        "# Create a k-means clustering model\n",
        "kmeans_R = KMeans(init='random', n_clusters=4, n_init=30,random_state=0)\n",
        "\n",
        "# Fit the data to the model\n",
        "kmeans_R.fit(data_scaled_R)\n",
        "\n",
        "# Determine which clusters each data point belongs to:\n",
        "clusters_R =  kmeans_R.predict(data_scaled_R)\n",
        "\n",
        "# Add cluster number to the original data\n",
        "data_scaled_clustered_R = pd.DataFrame(data_scaled_R, columns=DF.columns, index=DF.index)\n",
        "data_scaled_clustered_R['cluster'] = clusters_R\n",
        "\n",
        "\n",
        "# Create a PCA model to reduce our data to 2 dimensions for visualisation\n",
        "pca_R = PCA(n_components=2)\n",
        "pca_R.fit(data_scaled_R)\n",
        "\n",
        "# Transfor the scaled data to the new PCA space\n",
        "data_reduced_R = pca_R.transform(data_scaled_R)\n",
        "centres_reduced_R = pca_R.transform(kmeans_R.cluster_centers_)\n"
      ],
      "execution_count": 0,
      "outputs": []
    },
    {
      "cell_type": "code",
      "metadata": {
        "id": "gVdPNFAhVJqs",
        "colab_type": "code",
        "colab": {
          "base_uri": "https://localhost:8080/",
          "height": 361
        },
        "outputId": "19cf5f00-efca-412a-af98-764132c4c648"
      },
      "source": [
        "import matplotlib.pyplot as plt\n",
        "\n",
        "from sklearn.cluster import KMeans\n",
        "kls = range(1, 10)\n",
        "# Inertia can be recognized as a measure of how internally coherent clusters are.\n",
        "inertias = []\n",
        "for k in kls:\n",
        "    kmeans = KMeans(n_clusters=k)\n",
        "    \n",
        "    # Fit model to samples\n",
        "    kmeans.fit(data_reduced_R[:,:3])\n",
        "    \n",
        "    # Append the inertia to the list of inertias\n",
        "    inertias.append(kmeans.inertia_)\n",
        "    \n",
        "plt.plot(kls, inertias, '-o', color='black')\n",
        "plt.xlabel('number of clusters, k')\n",
        "plt.ylabel('inertia')\n",
        "plt.xticks(kls)\n",
        "plt.show()"
      ],
      "execution_count": 75,
      "outputs": [
        {
          "output_type": "display_data",
          "data": {
            "image/png": "[encoded data removed]",
            "text/plain": [
              "<Figure size 576x396 with 1 Axes>"
            ]
          },
          "metadata": {
            "tags": []
          }
        }
      ]
    },
    {
      "cell_type": "code",
      "metadata": {
        "id": "xgxHrJgesZLL",
        "colab_type": "code",
        "outputId": "77c82ad4-b7bb-4ea7-96d2-38d23ba263bc",
        "colab": {
          "base_uri": "https://localhost:8080/",
          "height": 403
        }
      },
      "source": [
        "display_factorial_planes(data_reduced_R, 2, pca_R, [(0,1)], illustrative_var = clusters_R, alpha = 0.8)\n",
        "plt.scatter(centres_reduced_R[:, 0], centres_reduced_R[:, 1],\n",
        "            marker='x', s=169, linewidths=3,\n",
        "            color='k', zorder=10)\n",
        "plt.show()"
      ],
      "execution_count": 87,
      "outputs": [
        {
          "output_type": "display_data",
          "data": {
            "image/png": "[encoded data removed]",
            "text/plain": [
              "<Figure size 504x432 with 1 Axes>"
            ]
          },
          "metadata": {
            "tags": []
          }
        }
      ]
    },
    {
      "cell_type": "code",
      "metadata": {
        "id": "FBXSKn3hsd3N",
        "colab_type": "code",
        "outputId": "4ab9bf80-ed39-4e87-f7c2-9ee148031ca5",
        "colab": {
          "base_uri": "https://localhost:8080/",
          "height": 369
        }
      },
      "source": [
        "# Create a data frame containing our centroids\n",
        "centroids_R = pd.DataFrame(kmeans_R.cluster_centers_, columns=DF.columns)\n",
        "centroids_R['cluster'] = centroids_R.index\n",
        "\n",
        "display_parallel_coordinates_centroids(centroids_R, 10)"
      ],
      "execution_count": 90,
      "outputs": [
        {
          "output_type": "display_data",
          "data": {
            "image/png": "[encoded data removed]",
            "text/plain": [
              "<Figure size 864x360 with 1 Axes>"
            ]
          },
          "metadata": {
            "tags": []
          }
        }
      ]
    },
    {
      "cell_type": "code",
      "metadata": {
        "id": "vU-o-8IRYT-o",
        "colab_type": "code",
        "colab": {
          "base_uri": "https://localhost:8080/",
          "height": 34
        },
        "outputId": "f495e976-8884-4314-9344-299de2a00898"
      },
      "source": [
        "# Calculate silhouette_score\n",
        "from sklearn.metrics import silhouette_score\n",
        "\n",
        "print(silhouette_score(data_scaled_R, kmeans_R.labels_))"
      ],
      "execution_count": 91,
      "outputs": [
        {
          "output_type": "stream",
          "text": [
            "0.2219117742737769\n"
          ],
          "name": "stdout"
        }
      ]
    },
    {
      "cell_type": "code",
      "metadata": {
        "id": "s_39esuJYzyO",
        "colab_type": "code",
        "colab": {
          "base_uri": "https://localhost:8080/",
          "height": 376
        },
        "outputId": "595c4145-a298-4327-b63e-c5de4ac0a84e"
      },
      "source": [
        "# Import the KElbowVisualizer method \n",
        "from yellowbrick.cluster import KElbowVisualizer\n",
        "\n",
        "# Instantiate a scikit-learn K-Means model\n",
        "model = KMeans(random_state=0)\n",
        "\n",
        "# Instantiate the KElbowVisualizer with the number of clusters and the metric \n",
        "visualizer = KElbowVisualizer(model, k=(2,6), metric='silhouette', timings=False)\n",
        "\n",
        "# Fit the data and visualize\n",
        "visualizer.fit(data_scaled_R)\n",
        "visualizer.poof()      \n"
      ],
      "execution_count": 92,
      "outputs": [
        {
          "output_type": "display_data",
          "data": {
            "image/png": "[encoded data removed]",
            "text/plain": [
              "<Figure size 576x396 with 1 Axes>"
            ]
          },
          "metadata": {
            "tags": []
          }
        }
      ]
    },
    {
      "cell_type": "markdown",
      "metadata": {
        "id": "3pGc2owypgDe",
        "colab_type": "text"
      },
      "source": [
        "**Adding the clusters to our data frame**"
      ]
    },
    {
      "cell_type": "code",
      "metadata": {
        "id": "5tnwGApFIkuo",
        "colab_type": "code",
        "colab": {}
      },
      "source": [
        "z = np.abs(stats.zscore(data))\n",
        "threshold = 3\n",
        "df = data[(z < 3).all(axis=1)]\n",
        "df.shape\n",
        "df['cluster'] = clusters_R"
      ],
      "execution_count": 0,
      "outputs": []
    },
    {
      "cell_type": "markdown",
      "metadata": {
        "id": "DJ3NoEdPrR63",
        "colab_type": "text"
      },
      "source": [
        "**Understanding each cluster's characteristics**"
      ]
    },
    {
      "cell_type": "code",
      "metadata": {
        "id": "ymFRFu6jquWf",
        "colab_type": "code",
        "outputId": "bd760703-a409-489a-bd39-e88292877be7",
        "colab": {
          "base_uri": "https://localhost:8080/",
          "height": 224
        }
      },
      "source": [
        "gb = df.groupby('cluster').mean()\n",
        "gb"
      ],
      "execution_count": 100,
      "outputs": [
        {
          "output_type": "execute_result",
          "data": {
            "text/html": [
              "<div>\n",
              "<style scoped>\n",
              "    .dataframe tbody tr th:only-of-type {\n",
              "        vertical-align: middle;\n",
              "    }\n",
              "\n",
              "    .dataframe tbody tr th {\n",
              "        vertical-align: top;\n",
              "    }\n",
              "\n",
              "    .dataframe thead th {\n",
              "        text-align: right;\n",
              "    }\n",
              "</style>\n",
              "<table border=\"1\" class=\"dataframe\">\n",
              "  <thead>\n",
              "    <tr style=\"text-align: right;\">\n",
              "      <th></th>\n",
              "      <th>age</th>\n",
              "      <th>bp</th>\n",
              "      <th>sg</th>\n",
              "      <th>al</th>\n",
              "      <th>pcc</th>\n",
              "      <th>ba</th>\n",
              "      <th>bgr</th>\n",
              "      <th>bu</th>\n",
              "      <th>sc</th>\n",
              "      <th>sod</th>\n",
              "      <th>pot</th>\n",
              "      <th>hemo</th>\n",
              "      <th>wc</th>\n",
              "      <th>htn</th>\n",
              "      <th>dm</th>\n",
              "      <th>cad</th>\n",
              "      <th>appet</th>\n",
              "      <th>pe</th>\n",
              "      <th>ane</th>\n",
              "      <th>CKD</th>\n",
              "    </tr>\n",
              "    <tr>\n",
              "      <th>cluster</th>\n",
              "      <th></th>\n",
              "      <th></th>\n",
              "      <th></th>\n",
              "      <th></th>\n",
              "      <th></th>\n",
              "      <th></th>\n",
              "      <th></th>\n",
              "      <th></th>\n",
              "      <th></th>\n",
              "      <th></th>\n",
              "      <th></th>\n",
              "      <th></th>\n",
              "      <th></th>\n",
              "      <th></th>\n",
              "      <th></th>\n",
              "      <th></th>\n",
              "      <th></th>\n",
              "      <th></th>\n",
              "      <th></th>\n",
              "      <th></th>\n",
              "    </tr>\n",
              "  </thead>\n",
              "  <tbody>\n",
              "    <tr>\n",
              "      <th>0</th>\n",
              "      <td>54.060422</td>\n",
              "      <td>80.827159</td>\n",
              "      <td>2.031250</td>\n",
              "      <td>1.968750</td>\n",
              "      <td>0.093750</td>\n",
              "      <td>0.0</td>\n",
              "      <td>139.784673</td>\n",
              "      <td>124.419554</td>\n",
              "      <td>8.570312</td>\n",
              "      <td>132.110274</td>\n",
              "      <td>4.588351</td>\n",
              "      <td>9.058728</td>\n",
              "      <td>8714.883475</td>\n",
              "      <td>0.781250</td>\n",
              "      <td>0.625000</td>\n",
              "      <td>0.0</td>\n",
              "      <td>0.593750</td>\n",
              "      <td>0.468750</td>\n",
              "      <td>0.593750</td>\n",
              "      <td>1.000000</td>\n",
              "    </tr>\n",
              "    <tr>\n",
              "      <th>1</th>\n",
              "      <td>46.549889</td>\n",
              "      <td>71.419588</td>\n",
              "      <td>3.466667</td>\n",
              "      <td>0.000000</td>\n",
              "      <td>0.000000</td>\n",
              "      <td>0.0</td>\n",
              "      <td>109.334794</td>\n",
              "      <td>33.783696</td>\n",
              "      <td>0.942415</td>\n",
              "      <td>141.590958</td>\n",
              "      <td>4.347575</td>\n",
              "      <td>15.081724</td>\n",
              "      <td>7736.955932</td>\n",
              "      <td>0.000000</td>\n",
              "      <td>0.000000</td>\n",
              "      <td>0.0</td>\n",
              "      <td>1.000000</td>\n",
              "      <td>0.000000</td>\n",
              "      <td>0.000000</td>\n",
              "      <td>0.000000</td>\n",
              "    </tr>\n",
              "    <tr>\n",
              "      <th>2</th>\n",
              "      <td>63.005824</td>\n",
              "      <td>79.716495</td>\n",
              "      <td>2.072289</td>\n",
              "      <td>1.036145</td>\n",
              "      <td>0.156627</td>\n",
              "      <td>0.0</td>\n",
              "      <td>176.810309</td>\n",
              "      <td>53.522616</td>\n",
              "      <td>2.136354</td>\n",
              "      <td>136.325032</td>\n",
              "      <td>4.448509</td>\n",
              "      <td>11.574089</td>\n",
              "      <td>8720.686134</td>\n",
              "      <td>0.783133</td>\n",
              "      <td>0.759036</td>\n",
              "      <td>0.0</td>\n",
              "      <td>0.698795</td>\n",
              "      <td>0.204819</td>\n",
              "      <td>0.156627</td>\n",
              "      <td>0.975904</td>\n",
              "    </tr>\n",
              "    <tr>\n",
              "      <th>3</th>\n",
              "      <td>37.507502</td>\n",
              "      <td>74.254725</td>\n",
              "      <td>1.900000</td>\n",
              "      <td>1.100000</td>\n",
              "      <td>0.033333</td>\n",
              "      <td>0.0</td>\n",
              "      <td>130.594288</td>\n",
              "      <td>37.074668</td>\n",
              "      <td>2.046327</td>\n",
              "      <td>137.997710</td>\n",
              "      <td>4.330288</td>\n",
              "      <td>12.220824</td>\n",
              "      <td>8233.440726</td>\n",
              "      <td>0.066667</td>\n",
              "      <td>0.083333</td>\n",
              "      <td>0.0</td>\n",
              "      <td>0.816667</td>\n",
              "      <td>0.233333</td>\n",
              "      <td>0.100000</td>\n",
              "      <td>1.000000</td>\n",
              "    </tr>\n",
              "  </tbody>\n",
              "</table>\n",
              "</div>"
            ],
            "text/plain": [
              "               age         bp        sg  ...        pe       ane       CKD\n",
              "cluster                                  ...                              \n",
              "0        54.060422  80.827159  2.031250  ...  0.468750  0.593750  1.000000\n",
              "1        46.549889  71.419588  3.466667  ...  0.000000  0.000000  0.000000\n",
              "2        63.005824  79.716495  2.072289  ...  0.204819  0.156627  0.975904\n",
              "3        37.507502  74.254725  1.900000  ...  0.233333  0.100000  1.000000\n",
              "\n",
              "[4 rows x 20 columns]"
            ]
          },
          "metadata": {
            "tags": []
          },
          "execution_count": 100
        }
      ]
    },
    {
      "cell_type": "code",
      "metadata": {
        "id": "zpGLJ7DKkIok",
        "colab_type": "code",
        "colab": {
          "base_uri": "https://localhost:8080/",
          "height": 224
        },
        "outputId": "3c582556-d38f-40d2-d163-efd8f5cc7915"
      },
      "source": [
        "gb = df.groupby('cluster').std()\n",
        "gb"
      ],
      "execution_count": 102,
      "outputs": [
        {
          "output_type": "execute_result",
          "data": {
            "text/html": [
              "<div>\n",
              "<style scoped>\n",
              "    .dataframe tbody tr th:only-of-type {\n",
              "        vertical-align: middle;\n",
              "    }\n",
              "\n",
              "    .dataframe tbody tr th {\n",
              "        vertical-align: top;\n",
              "    }\n",
              "\n",
              "    .dataframe thead th {\n",
              "        text-align: right;\n",
              "    }\n",
              "</style>\n",
              "<table border=\"1\" class=\"dataframe\">\n",
              "  <thead>\n",
              "    <tr style=\"text-align: right;\">\n",
              "      <th></th>\n",
              "      <th>age</th>\n",
              "      <th>bp</th>\n",
              "      <th>sg</th>\n",
              "      <th>al</th>\n",
              "      <th>pcc</th>\n",
              "      <th>ba</th>\n",
              "      <th>bgr</th>\n",
              "      <th>bu</th>\n",
              "      <th>sc</th>\n",
              "      <th>sod</th>\n",
              "      <th>pot</th>\n",
              "      <th>hemo</th>\n",
              "      <th>wc</th>\n",
              "      <th>htn</th>\n",
              "      <th>dm</th>\n",
              "      <th>cad</th>\n",
              "      <th>appet</th>\n",
              "      <th>pe</th>\n",
              "      <th>ane</th>\n",
              "      <th>CKD</th>\n",
              "    </tr>\n",
              "    <tr>\n",
              "      <th>cluster</th>\n",
              "      <th></th>\n",
              "      <th></th>\n",
              "      <th></th>\n",
              "      <th></th>\n",
              "      <th></th>\n",
              "      <th></th>\n",
              "      <th></th>\n",
              "      <th></th>\n",
              "      <th></th>\n",
              "      <th></th>\n",
              "      <th></th>\n",
              "      <th></th>\n",
              "      <th></th>\n",
              "      <th></th>\n",
              "      <th></th>\n",
              "      <th></th>\n",
              "      <th></th>\n",
              "      <th></th>\n",
              "      <th></th>\n",
              "      <th></th>\n",
              "    </tr>\n",
              "  </thead>\n",
              "  <tbody>\n",
              "    <tr>\n",
              "      <th>0</th>\n",
              "      <td>10.514532</td>\n",
              "      <td>13.063830</td>\n",
              "      <td>1.031265</td>\n",
              "      <td>1.534220</td>\n",
              "      <td>0.296145</td>\n",
              "      <td>0.0</td>\n",
              "      <td>55.461487</td>\n",
              "      <td>39.642964</td>\n",
              "      <td>4.227232</td>\n",
              "      <td>8.669892</td>\n",
              "      <td>1.045365</td>\n",
              "      <td>1.989382</td>\n",
              "      <td>2821.588172</td>\n",
              "      <td>0.420013</td>\n",
              "      <td>0.491869</td>\n",
              "      <td>0.0</td>\n",
              "      <td>0.498991</td>\n",
              "      <td>0.507007</td>\n",
              "      <td>0.498991</td>\n",
              "      <td>0.000000</td>\n",
              "    </tr>\n",
              "    <tr>\n",
              "      <th>1</th>\n",
              "      <td>15.583874</td>\n",
              "      <td>8.506379</td>\n",
              "      <td>0.500559</td>\n",
              "      <td>0.000000</td>\n",
              "      <td>0.000000</td>\n",
              "      <td>0.0</td>\n",
              "      <td>19.839335</td>\n",
              "      <td>12.217978</td>\n",
              "      <td>0.469456</td>\n",
              "      <td>4.796435</td>\n",
              "      <td>0.579666</td>\n",
              "      <td>1.356563</td>\n",
              "      <td>1801.657306</td>\n",
              "      <td>0.000000</td>\n",
              "      <td>0.000000</td>\n",
              "      <td>0.0</td>\n",
              "      <td>0.000000</td>\n",
              "      <td>0.000000</td>\n",
              "      <td>0.000000</td>\n",
              "      <td>0.000000</td>\n",
              "    </tr>\n",
              "    <tr>\n",
              "      <th>2</th>\n",
              "      <td>9.646578</td>\n",
              "      <td>12.690402</td>\n",
              "      <td>0.947180</td>\n",
              "      <td>1.131002</td>\n",
              "      <td>0.365658</td>\n",
              "      <td>0.0</td>\n",
              "      <td>70.589175</td>\n",
              "      <td>24.971081</td>\n",
              "      <td>0.878450</td>\n",
              "      <td>4.531317</td>\n",
              "      <td>0.674722</td>\n",
              "      <td>1.607927</td>\n",
              "      <td>1898.978649</td>\n",
              "      <td>0.414617</td>\n",
              "      <td>0.430268</td>\n",
              "      <td>0.0</td>\n",
              "      <td>0.461570</td>\n",
              "      <td>0.406023</td>\n",
              "      <td>0.365658</td>\n",
              "      <td>0.154281</td>\n",
              "    </tr>\n",
              "    <tr>\n",
              "      <th>3</th>\n",
              "      <td>20.145593</td>\n",
              "      <td>11.721906</td>\n",
              "      <td>0.896320</td>\n",
              "      <td>1.398546</td>\n",
              "      <td>0.181020</td>\n",
              "      <td>0.0</td>\n",
              "      <td>39.933737</td>\n",
              "      <td>24.815040</td>\n",
              "      <td>1.937378</td>\n",
              "      <td>2.540058</td>\n",
              "      <td>0.492961</td>\n",
              "      <td>1.405169</td>\n",
              "      <td>1854.545480</td>\n",
              "      <td>0.251549</td>\n",
              "      <td>0.278718</td>\n",
              "      <td>0.0</td>\n",
              "      <td>0.390205</td>\n",
              "      <td>0.426522</td>\n",
              "      <td>0.302532</td>\n",
              "      <td>0.000000</td>\n",
              "    </tr>\n",
              "  </tbody>\n",
              "</table>\n",
              "</div>"
            ],
            "text/plain": [
              "               age         bp        sg  ...        pe       ane       CKD\n",
              "cluster                                  ...                              \n",
              "0        10.514532  13.063830  1.031265  ...  0.507007  0.498991  0.000000\n",
              "1        15.583874   8.506379  0.500559  ...  0.000000  0.000000  0.000000\n",
              "2         9.646578  12.690402  0.947180  ...  0.406023  0.365658  0.154281\n",
              "3        20.145593  11.721906  0.896320  ...  0.426522  0.302532  0.000000\n",
              "\n",
              "[4 rows x 20 columns]"
            ]
          },
          "metadata": {
            "tags": []
          },
          "execution_count": 102
        }
      ]
    },
    {
      "cell_type": "code",
      "metadata": {
        "id": "inFgydDZlgDl",
        "colab_type": "code",
        "colab": {
          "base_uri": "https://localhost:8080/",
          "height": 365
        },
        "outputId": "904935d4-e1f0-4f9f-de22-25c32e71eb36"
      },
      "source": [
        "sns.catplot(x=\"cluster\", hue=\"al\", kind=\"count\", palette=\"ch:1.5\", data=df)\n",
        "plt.show()"
      ],
      "execution_count": 107,
      "outputs": [
        {
          "output_type": "display_data",
          "data": {
            "image/png": "[encoded data removed]",
            "text/plain": [
              "<Figure size 401.625x360 with 1 Axes>"
            ]
          },
          "metadata": {
            "tags": []
          }
        }
      ]
    },
    {
      "cell_type": "code",
      "metadata": {
        "id": "bLepKseZo7FA",
        "colab_type": "code",
        "colab": {
          "base_uri": "https://localhost:8080/",
          "height": 378
        },
        "outputId": "be36a866-61b9-47a1-f47d-86e408e9e4fc"
      },
      "source": [
        "sns.barplot(x='cluster', y='dm', data=df, estimator=lambda x: sum(x==1)*100.0/len(x))\n"
      ],
      "execution_count": 110,
      "outputs": [
        {
          "output_type": "execute_result",
          "data": {
            "text/plain": [
              "<matplotlib.axes._subplots.AxesSubplot at 0x7f0219c56b00>"
            ]
          },
          "metadata": {
            "tags": []
          },
          "execution_count": 110
        },
        {
          "output_type": "display_data",
          "data": {
            "image/png": "[encoded data removed]",
            "text/plain": [
              "<Figure size 576x396 with 1 Axes>"
            ]
          },
          "metadata": {
            "tags": []
          }
        }
      ]
    },
    {
      "cell_type": "code",
      "metadata": {
        "id": "gMU_q7vqoLbg",
        "colab_type": "code",
        "colab": {
          "base_uri": "https://localhost:8080/",
          "height": 378
        },
        "outputId": "6ebfc5b4-0def-4f67-9f1f-4710bf62201a"
      },
      "source": [
        "sns.barplot(x='cluster', y='al', data=df, estimator=lambda x: sum(x==4)*100.0/len(x))"
      ],
      "execution_count": 116,
      "outputs": [
        {
          "output_type": "execute_result",
          "data": {
            "text/plain": [
              "<matplotlib.axes._subplots.AxesSubplot at 0x7f0218fc2160>"
            ]
          },
          "metadata": {
            "tags": []
          },
          "execution_count": 116
        },
        {
          "output_type": "display_data",
          "data": {
            "image/png": "[encoded data removed]",
            "text/plain": [
              "<Figure size 576x396 with 1 Axes>"
            ]
          },
          "metadata": {
            "tags": []
          }
        }
      ]
    },
    {
      "cell_type": "code",
      "metadata": {
        "id": "Y9zbA5Z-r0ce",
        "colab_type": "code",
        "outputId": "09453470-f886-446e-9560-00c481b9a669",
        "colab": {
          "base_uri": "https://localhost:8080/",
          "height": 365
        }
      },
      "source": [
        "import seaborn as sns\n",
        "sns.catplot(x=\"cluster\", kind=\"count\", palette=\"ch:1.5\", data=df)\n",
        "plt.show()"
      ],
      "execution_count": 97,
      "outputs": [
        {
          "output_type": "display_data",
          "data": {
            "image/png": "[encoded data removed]",
            "text/plain": [
              "<Figure size 360x360 with 1 Axes>"
            ]
          },
          "metadata": {
            "tags": []
          }
        }
      ]
    },
    {
      "cell_type": "code",
      "metadata": {
        "id": "Ita_WFN80avA",
        "colab_type": "code",
        "colab": {}
      },
      "source": [
        "# Save CSV \n",
        "from google.colab import files\n",
        "df.to_csv('ckd_pred.csv')\n",
        "files.download('ckd_pred.csv')"
      ],
      "execution_count": 0,
      "outputs": []
    },
    {
      "cell_type": "markdown",
      "metadata": {
        "id": "wcWkLu0zidJ5",
        "colab_type": "text"
      },
      "source": [
        "# IV. Data Analysis: Supervised Learning  "
      ]
    },
    {
      "cell_type": "code",
      "metadata": {
        "id": "hjCuwfH0j5P-",
        "colab_type": "code",
        "colab": {}
      },
      "source": [
        "features = ['age','bp',]"
      ],
      "execution_count": 0,
      "outputs": []
    },
    {
      "cell_type": "code",
      "metadata": {
        "id": "fYJg0KXiJAC6",
        "colab_type": "code",
        "colab": {}
      },
      "source": [
        "train_features = df.loc[:,features]\n",
        "train_labels = df.loc[:,'cluster']"
      ],
      "execution_count": 0,
      "outputs": []
    },
    {
      "cell_type": "code",
      "metadata": {
        "id": "QdX2wYA8JInB",
        "colab_type": "code",
        "colab": {}
      },
      "source": [
        "# feature scaling\n",
        "from sklearn.preprocessing import MinMaxScaler\n",
        "scaler = MinMaxScaler()\n",
        "train_features = scaler.fit_transform(train_features)"
      ],
      "execution_count": 0,
      "outputs": []
    },
    {
      "cell_type": "code",
      "metadata": {
        "id": "FBjHbn58JPfn",
        "colab_type": "code",
        "colab": {}
      },
      "source": [
        "from sklearn.model_selection import train_test_split\n",
        "f_train, f_test, l_train, l_test = train_test_split(\n",
        "    train_features, train_labels, test_size=0.2, random_state=2, stratify=train_labels)"
      ],
      "execution_count": 0,
      "outputs": []
    },
    {
      "cell_type": "code",
      "metadata": {
        "id": "g83HB6ipJT4R",
        "colab_type": "code",
        "outputId": "8a9c4b17-76b3-4c76-e1e3-84d6bc707bf7",
        "colab": {
          "base_uri": "https://localhost:8080/",
          "height": 34
        }
      },
      "source": [
        "model = LogisticRegression(solver='lbfgs',multi_class='multinomial')\n",
        "model.fit(f_train,l_train)\n",
        "model.score(f_test, l_test)"
      ],
      "execution_count": 0,
      "outputs": [
        {
          "output_type": "execute_result",
          "data": {
            "text/plain": [
              "0.8461538461538461"
            ]
          },
          "metadata": {
            "tags": []
          },
          "execution_count": 24
        }
      ]
    },
    {
      "cell_type": "code",
      "metadata": {
        "id": "jXdtD1dcL4FE",
        "colab_type": "code",
        "outputId": "c8ee42f7-f926-462d-a848-b831722360f5",
        "colab": {
          "base_uri": "https://localhost:8080/",
          "height": 34
        }
      },
      "source": [
        "model.score(f_train, l_train)"
      ],
      "execution_count": 0,
      "outputs": [
        {
          "output_type": "execute_result",
          "data": {
            "text/plain": [
              "0.8923076923076924"
            ]
          },
          "metadata": {
            "tags": []
          },
          "execution_count": 26
        }
      ]
    },
    {
      "cell_type": "code",
      "metadata": {
        "id": "mYD7CdiFM02p",
        "colab_type": "code",
        "outputId": "27aa3c9d-8b5e-43de-d46d-389c7ff4dc97",
        "colab": {
          "base_uri": "https://localhost:8080/",
          "height": 68
        }
      },
      "source": [
        "l_pred = model.predict(f_test)\n",
        "l_pred"
      ],
      "execution_count": 0,
      "outputs": [
        {
          "output_type": "execute_result",
          "data": {
            "text/plain": [
              "array([3, 2, 2, 2, 1, 1, 2, 0, 2, 3, 1, 0, 1, 1, 1, 2, 1, 1, 1, 1, 3, 3,\n",
              "       1, 0, 1, 1, 1, 1, 2, 2, 2, 2, 1, 3, 1, 2, 1, 1, 2, 2, 1, 1, 1, 1,\n",
              "       1, 2, 3, 1, 3, 2, 1, 1, 3, 1, 2, 1, 0, 1, 2, 1, 1, 1, 1, 3, 1])"
            ]
          },
          "metadata": {
            "tags": []
          },
          "execution_count": 28
        }
      ]
    },
    {
      "cell_type": "code",
      "metadata": {
        "id": "3KiP9qNdMe6V",
        "colab_type": "code",
        "outputId": "26200248-3fdf-4380-d7e1-1eb7ba10e68f",
        "colab": {
          "base_uri": "https://localhost:8080/",
          "height": 85
        }
      },
      "source": [
        "from sklearn.metrics import classification_report, confusion_matrix\n",
        "confusion_matrix(l_test,l_pred)"
      ],
      "execution_count": 0,
      "outputs": [
        {
          "output_type": "execute_result",
          "data": {
            "text/plain": [
              "array([[ 4,  0,  2,  0],\n",
              "       [ 0, 30,  0,  0],\n",
              "       [ 0,  3, 13,  1],\n",
              "       [ 0,  2,  2,  8]])"
            ]
          },
          "metadata": {
            "tags": []
          },
          "execution_count": 29
        }
      ]
    },
    {
      "cell_type": "code",
      "metadata": {
        "id": "F4m8gEplNHfa",
        "colab_type": "code",
        "outputId": "0acd070e-e878-4e86-fa29-7514e74fce09",
        "colab": {
          "base_uri": "https://localhost:8080/",
          "height": 502
        }
      },
      "source": [
        "cm = confusion_matrix(l_test,l_pred)\n",
        "\n",
        "fig, ax = plt.subplots(figsize=(8, 8))\n",
        "ax.imshow(cm)\n",
        "ax.grid(False)\n",
        "ax.set_xlabel('Predicted outputs',fontsize= 15, color='black')\n",
        "ax.set_ylabel('Actual outputs', fontsize= 15, color='black')\n",
        "ax.xaxis.set(ticks=range(4))\n",
        "ax.yaxis.set(ticks=range(4))\n",
        "ax.set_ylim(3.5, -.5)\n",
        "for i in range(4):\n",
        "    for j in range(4):\n",
        "        ax.text(j, i, cm[i, j], ha='center', va='center', color='white', fontsize = 30)\n",
        "plt.show()\n",
        "\n",
        "plt.show()"
      ],
      "execution_count": 0,
      "outputs": [
        {
          "output_type": "display_data",
          "data": {
            "image/png": "[encoded data removed]",
            "text/plain": [
              "<Figure size 576x576 with 1 Axes>"
            ]
          },
          "metadata": {
            "tags": [],
            "needs_background": "light"
          }
        }
      ]
    },
    {
      "cell_type": "code",
      "metadata": {
        "id": "1NWNhM38Pm5w",
        "colab_type": "code",
        "outputId": "d38bb657-4bd4-4cf4-dc34-0960086c4c50",
        "colab": {
          "base_uri": "https://localhost:8080/",
          "height": 204
        }
      },
      "source": [
        "print(classification_report(l_test, l_pred))"
      ],
      "execution_count": 0,
      "outputs": [
        {
          "output_type": "stream",
          "text": [
            "              precision    recall  f1-score   support\n",
            "\n",
            "           0       1.00      0.67      0.80         6\n",
            "           1       0.86      1.00      0.92        30\n",
            "           2       0.76      0.76      0.76        17\n",
            "           3       0.89      0.67      0.76        12\n",
            "\n",
            "    accuracy                           0.85        65\n",
            "   macro avg       0.88      0.77      0.81        65\n",
            "weighted avg       0.85      0.85      0.84        65\n",
            "\n"
          ],
          "name": "stdout"
        }
      ]
    },
    {
      "cell_type": "markdown",
      "metadata": {
        "id": "TS6GEhodPx4R",
        "colab_type": "text"
      },
      "source": [
        "**Random Forest**"
      ]
    },
    {
      "cell_type": "code",
      "metadata": {
        "id": "tCdv8A7BQzh2",
        "colab_type": "code",
        "outputId": "372178a0-c04c-4085-c45a-11ae79bfc5e1",
        "colab": {
          "base_uri": "https://localhost:8080/",
          "height": 34
        }
      },
      "source": [
        "from sklearn.ensemble import RandomForestClassifier\n",
        "rf = RandomForestClassifier(n_estimators = 10, criterion = 'entropy', random_state = 42)\n",
        "rf.fit(f_train, l_train)\n",
        "rf.score(f_test, l_test)"
      ],
      "execution_count": 0,
      "outputs": [
        {
          "output_type": "execute_result",
          "data": {
            "text/plain": [
              "0.8153846153846154"
            ]
          },
          "metadata": {
            "tags": []
          },
          "execution_count": 53
        }
      ]
    },
    {
      "cell_type": "code",
      "metadata": {
        "id": "iZIJ62t_RbWS",
        "colab_type": "code",
        "colab": {}
      },
      "source": [
        "l_pred=rf.predict(f_test)"
      ],
      "execution_count": 0,
      "outputs": []
    },
    {
      "cell_type": "code",
      "metadata": {
        "id": "DZBtuBE2RMCJ",
        "colab_type": "code",
        "outputId": "ad10f8b4-fd9e-4628-eccf-0b3f4e1e5868",
        "colab": {
          "base_uri": "https://localhost:8080/",
          "height": 502
        }
      },
      "source": [
        "cm = confusion_matrix(l_test,l_pred)\n",
        "\n",
        "fig, ax = plt.subplots(figsize=(8, 8))\n",
        "ax.imshow(cm)\n",
        "ax.grid(False)\n",
        "ax.set_xlabel('Predicted outputs',fontsize= 15, color='black')\n",
        "ax.set_ylabel('Actual outputs', fontsize= 15, color='black')\n",
        "ax.xaxis.set(ticks=range(4))\n",
        "ax.yaxis.set(ticks=range(4))\n",
        "ax.set_ylim(3.5, -.5)\n",
        "for i in range(4):\n",
        "    for j in range(4):\n",
        "        ax.text(j, i, cm[i, j], ha='center', va='center', color='white', fontsize = 30)\n",
        "plt.show()\n"
      ],
      "execution_count": 0,
      "outputs": [
        {
          "output_type": "display_data",
          "data": {
            "image/png": "[encoded data removed]",
            "text/plain": [
              "<Figure size 576x576 with 1 Axes>"
            ]
          },
          "metadata": {
            "tags": [],
            "needs_background": "light"
          }
        }
      ]
    },
    {
      "cell_type": "markdown",
      "metadata": {
        "id": "g3NuBhUBRtKy",
        "colab_type": "text"
      },
      "source": [
        "**Model comparison**"
      ]
    },
    {
      "cell_type": "markdown",
      "metadata": {
        "id": "WlizOhwkfwiu",
        "colab_type": "text"
      },
      "source": [
        "**Investigate clusters' size**"
      ]
    },
    {
      "cell_type": "markdown",
      "metadata": {
        "id": "bXSq27LaiyyI",
        "colab_type": "text"
      },
      "source": [
        "We can see that the data is very imbalanced. The model might get biased toward the majority class, not taking the distribution of the data into consideration."
      ]
    },
    {
      "cell_type": "code",
      "metadata": {
        "id": "SB9f7rf04LTW",
        "colab_type": "code",
        "outputId": "77fa8c3b-fc14-414a-9319-29cd33ba61b4",
        "colab": {
          "base_uri": "https://localhost:8080/",
          "height": 369
        }
      },
      "source": [
        "sns.catplot(x=\"cluster\", kind=\"count\", palette=\"ch:1.5\", data=df)\n",
        "plt.show()"
      ],
      "execution_count": 0,
      "outputs": [
        {
          "output_type": "display_data",
          "data": {
            "image/png": "[encoded data removed]",
            "text/plain": [
              "<Figure size 360x360 with 1 Axes>"
            ]
          },
          "metadata": {
            "tags": [],
            "needs_background": "light"
          }
        }
      ]
    },
    {
      "cell_type": "markdown",
      "metadata": {
        "id": "sfT5e_RyPY9p",
        "colab_type": "text"
      },
      "source": [
        "**Feature Selection**\n",
        "\n",
        "---\n",
        "The number of input variables is reduced to improve the model performance. "
      ]
    },
    {
      "cell_type": "code",
      "metadata": {
        "id": "bG4pqgB9PYXH",
        "colab_type": "code",
        "colab": {}
      },
      "source": [
        "features = ['age','hemo','bp','htn','al','bu','sg','wc','sc','bgr']"
      ],
      "execution_count": 0,
      "outputs": []
    },
    {
      "cell_type": "markdown",
      "metadata": {
        "id": "8LRL-M6oPDVQ",
        "colab_type": "text"
      },
      "source": [
        "**Train Test Split**"
      ]
    },
    {
      "cell_type": "code",
      "metadata": {
        "id": "-0F4aXEOPK3X",
        "colab_type": "code",
        "colab": {}
      },
      "source": [
        "train_features = df.loc[:,features]\n",
        "train_labels = df.loc[:,'cluster']"
      ],
      "execution_count": 0,
      "outputs": []
    },
    {
      "cell_type": "markdown",
      "metadata": {
        "id": "YGp3bmYVbNJm",
        "colab_type": "text"
      },
      "source": [
        "Normalising the data for ML models "
      ]
    },
    {
      "cell_type": "code",
      "metadata": {
        "id": "6AdHTEWfZ8tg",
        "colab_type": "code",
        "colab": {}
      },
      "source": [
        "# feature scaling\n",
        "from sklearn.preprocessing import MinMaxScaler\n",
        "scaler = MinMaxScaler()\n",
        "train_features = scaler.fit_transform(train_features)"
      ],
      "execution_count": 0,
      "outputs": []
    },
    {
      "cell_type": "code",
      "metadata": {
        "id": "IWJKNpqHbVhK",
        "colab_type": "code",
        "colab": {}
      },
      "source": [
        "from sklearn.model_selection import train_test_split\n",
        "f_train, f_test, l_train, l_test = train_test_split(\n",
        "    train_features, train_labels, test_size=0.2, random_state=2, stratify=train_labels)"
      ],
      "execution_count": 0,
      "outputs": []
    },
    {
      "cell_type": "markdown",
      "metadata": {
        "id": "KrgCs_1ZbsvL",
        "colab_type": "text"
      },
      "source": [
        "**Model Selection**\n",
        "\n",
        "We are now ready to experiment with different machine learning models and evaluate their accuracy.\n",
        "\n",
        "We will benchmark the following 3 models:\n",
        "\n",
        "1. Random forest \n",
        "2. Logistic Regression\n",
        "4. Naive Bayes "
      ]
    },
    {
      "cell_type": "code",
      "metadata": {
        "id": "AXxKlUsC6h7y",
        "colab_type": "code",
        "colab": {}
      },
      "source": [
        "from sklearn.metrics import classification_report\n",
        "from sklearn.metrics import plot_confusion_matrix\n",
        "from sklearn.metrics import f1_score"
      ],
      "execution_count": 0,
      "outputs": []
    },
    {
      "cell_type": "markdown",
      "metadata": {
        "id": "5dHOyyNorUcs",
        "colab_type": "text"
      },
      "source": [
        "**Model 1: Random Forest**"
      ]
    },
    {
      "cell_type": "code",
      "metadata": {
        "id": "vXst6OYbrTkA",
        "colab_type": "code",
        "outputId": "b15488ed-e4f2-4a8f-c9db-ced41823a260",
        "colab": {
          "base_uri": "https://localhost:8080/",
          "height": 204
        }
      },
      "source": [
        "from sklearn.ensemble import RandomForestClassifier\n",
        "rf = RandomForestClassifier(n_estimators = 100, criterion = 'entropy')\n",
        "rf.fit(f_train, l_train)\n",
        "l_pred = rf.predict(f_test)\n",
        "print('F1 Score: {:.2f}'.format(f1_score(l_test, l_pred)))\n",
        "print('Classification report\\n',classification_report(l_test, l_pred))"
      ],
      "execution_count": 0,
      "outputs": [
        {
          "output_type": "stream",
          "text": [
            "F1 Score: 0.52\n",
            "Classification report\n",
            "               precision    recall  f1-score   support\n",
            "\n",
            "           0       0.89      0.91      0.90        53\n",
            "           1       0.55      0.50      0.52        12\n",
            "\n",
            "    accuracy                           0.83        65\n",
            "   macro avg       0.72      0.70      0.71        65\n",
            "weighted avg       0.83      0.83      0.83        65\n",
            "\n"
          ],
          "name": "stdout"
        }
      ]
    },
    {
      "cell_type": "markdown",
      "metadata": {
        "id": "w2OMCCGO5qlk",
        "colab_type": "text"
      },
      "source": [
        "**Model 2: Logistic Regression**"
      ]
    },
    {
      "cell_type": "code",
      "metadata": {
        "id": "_47dZOxb7N_Y",
        "colab_type": "code",
        "outputId": "ac650495-fb32-427b-db31-9d5208ff1066",
        "colab": {
          "base_uri": "https://localhost:8080/",
          "height": 204
        }
      },
      "source": [
        "from sklearn.linear_model import LogisticRegression\n",
        "logreg = LogisticRegression()\n",
        "logreg.fit(scaler.fit_transform(f_train), l_train)\n",
        "l_pred = logreg.predict(scaler.fit_transform(f_test))\n",
        "print('F1 Score: {:.2f}'.format(f1_score(l_test, l_pred)))\n",
        "print('Classification report\\n',classification_report(l_test, l_pred))"
      ],
      "execution_count": 0,
      "outputs": [
        {
          "output_type": "stream",
          "text": [
            "F1 Score: 0.50\n",
            "Classification report\n",
            "               precision    recall  f1-score   support\n",
            "\n",
            "           0       0.88      0.94      0.91        53\n",
            "           1       0.62      0.42      0.50        12\n",
            "\n",
            "    accuracy                           0.85        65\n",
            "   macro avg       0.75      0.68      0.70        65\n",
            "weighted avg       0.83      0.85      0.83        65\n",
            "\n"
          ],
          "name": "stdout"
        }
      ]
    },
    {
      "cell_type": "markdown",
      "metadata": {
        "id": "fJyodWvF5paG",
        "colab_type": "text"
      },
      "source": [
        "**Model 3: Naive Bayes**"
      ]
    },
    {
      "cell_type": "code",
      "metadata": {
        "id": "xX_du-vx7n4f",
        "colab_type": "code",
        "outputId": "8f9af593-f94e-497e-951a-03b042ddd250",
        "colab": {
          "base_uri": "https://localhost:8080/",
          "height": 204
        }
      },
      "source": [
        "from sklearn.naive_bayes import GaussianNB\n",
        "gaussian = GaussianNB()\n",
        "gaussian.fit(f_train, l_train)\n",
        "l_pred = gaussian.predict(f_test)\n",
        "\n",
        "print('F1 Score: {:.2f}'.format(f1_score(l_test, l_pred)))\n",
        "print('Classification report\\n',classification_report(l_test, l_pred))"
      ],
      "execution_count": 0,
      "outputs": [
        {
          "output_type": "stream",
          "text": [
            "F1 Score: 0.55\n",
            "Classification report\n",
            "               precision    recall  f1-score   support\n",
            "\n",
            "           0       0.92      0.83      0.87        53\n",
            "           1       0.47      0.67      0.55        12\n",
            "\n",
            "    accuracy                           0.80        65\n",
            "   macro avg       0.69      0.75      0.71        65\n",
            "weighted avg       0.83      0.80      0.81        65\n",
            "\n"
          ],
          "name": "stdout"
        }
      ]
    },
    {
      "cell_type": "markdown",
      "metadata": {
        "id": "jkyhfyNr8LvG",
        "colab_type": "text"
      },
      "source": [
        "**Model Comparison**"
      ]
    },
    {
      "cell_type": "code",
      "metadata": {
        "id": "YbcjWVZb8N7c",
        "colab_type": "code",
        "outputId": "29dec8e1-4d73-48d5-86df-c01f99d3b89e",
        "colab": {
          "base_uri": "https://localhost:8080/",
          "height": 374
        }
      },
      "source": [
        "from sklearn.model_selection import KFold #for K-fold cross validation\n",
        "from sklearn.model_selection import cross_val_score #score evaluation\n",
        "from sklearn.model_selection import cross_val_predict #prediction\n",
        "kfold = KFold(n_splits=5) # k=5, split the data into 5 equal parts\n",
        "\n",
        "results=[]\n",
        "classifiers=['Logistic Regression','Naive Bayes','Random Forest']\n",
        "# train_features = scaler.fit_transform(train_features)\n",
        "models=[LogisticRegression(max_iter=1000),GaussianNB(),RandomForestClassifier(n_estimators=200)]\n",
        "for model in models:\n",
        "    cv_result = cross_val_score(model,scaler.fit_transform(train_features),train_labels, cv = kfold,scoring = \"accuracy\")\n",
        "    results.append(cv_result)\n",
        "\n",
        "# Visualise the results\n",
        "plt.subplots(figsize=(12,6))\n",
        "box=pd.DataFrame(results,index=[classifiers])\n",
        "box.T.boxplot()\n",
        "plt.show()"
      ],
      "execution_count": 0,
      "outputs": [
        {
          "output_type": "display_data",
          "data": {
            "image/png": "[encoded data removed]",
            "text/plain": [
              "<Figure size 864x432 with 1 Axes>"
            ]
          },
          "metadata": {
            "tags": [],
            "needs_background": "light"
          }
        }
      ]
    },
    {
      "cell_type": "markdown",
      "metadata": {
        "id": "c5usK_QOqzM-",
        "colab_type": "text"
      },
      "source": [
        "# V. Appendix"
      ]
    },
    {
      "cell_type": "markdown",
      "metadata": {
        "id": "R0MvYGgyrPMn",
        "colab_type": "text"
      },
      "source": [
        "**Functions from OpenClassroom for cluster visualisation**\n",
        "\n",
        "---\n",
        "\n"
      ]
    },
    {
      "cell_type": "code",
      "metadata": {
        "id": "qYyPD3daq-Xv",
        "colab_type": "code",
        "colab": {}
      },
      "source": [
        "# Code from Open Classroom for data visualisation\n",
        "# https://github.com/OpenClassrooms-Student-Center/Multivariate-Exploratory-Analysis/blob/master/functions.py\n",
        "\n",
        "import matplotlib.pyplot as plt\n",
        "from matplotlib.collections import LineCollection\n",
        "import numpy as np\n",
        "import pandas as pd\n",
        "from scipy.cluster.hierarchy import dendrogram\n",
        "from pandas.plotting import parallel_coordinates\n",
        "import seaborn as sns\n",
        "\n",
        "\n",
        "palette = sns.color_palette(\"bright\", 10)\n",
        "\n",
        "def display_circles(pcs, n_comp, pca, axis_ranks, labels=None, label_rotation=0, lims=None):\n",
        "    \"\"\"Display correlation circles, one for each factorial plane\"\"\"\n",
        "\n",
        "    # For each factorial plane\n",
        "    for d1, d2 in axis_ranks: \n",
        "        if d2 < n_comp:\n",
        "\n",
        "            # Initialise the matplotlib figure\n",
        "            fig, ax = plt.subplots(figsize=(10,10))\n",
        "\n",
        "            # Determine the limits of the chart\n",
        "            if lims is not None :\n",
        "                xmin, xmax, ymin, ymax = lims\n",
        "            elif pcs.shape[1] < 30 :\n",
        "                xmin, xmax, ymin, ymax = -1, 1, -1, 1\n",
        "            else :\n",
        "                xmin, xmax, ymin, ymax = min(pcs[d1,:]), max(pcs[d1,:]), min(pcs[d2,:]), max(pcs[d2,:])\n",
        "\n",
        "            # Add arrows\n",
        "            # If there are more than 30 arrows, we do not display the triangle at the end\n",
        "            if pcs.shape[1] < 30 :\n",
        "                plt.quiver(np.zeros(pcs.shape[1]), np.zeros(pcs.shape[1]),\n",
        "                   pcs[d1,:], pcs[d2,:], \n",
        "                   angles='xy', scale_units='xy', scale=1, color=\"grey\")\n",
        "                # (see the doc : https://matplotlib.org/api/_as_gen/matplotlib.pyplot.quiver.html)\n",
        "            else:\n",
        "                lines = [[[0,0],[x,y]] for x,y in pcs[[d1,d2]].T]\n",
        "                ax.add_collection(LineCollection(lines, axes=ax, alpha=.1, color='black'))\n",
        "            \n",
        "            # Display variable names\n",
        "            if labels is not None:  \n",
        "                for i,(x, y) in enumerate(pcs[[d1,d2]].T):\n",
        "                    if x >= xmin and x <= xmax and y >= ymin and y <= ymax :\n",
        "                        plt.text(x, y, labels[i], fontsize='14', ha='center', va='center', rotation=label_rotation, color=\"blue\", alpha=0.5)\n",
        "            \n",
        "            # Display circle\n",
        "            circle = plt.Circle((0,0), 1, facecolor='none', edgecolor='b')\n",
        "            plt.gca().add_artist(circle)\n",
        "\n",
        "            # Define the limits of the chart\n",
        "            plt.xlim(xmin, xmax)\n",
        "            plt.ylim(ymin, ymax)\n",
        "        \n",
        "            # Display grid lines\n",
        "            plt.plot([-1, 1], [0, 0], color='grey', ls='--')\n",
        "            plt.plot([0, 0], [-1, 1], color='grey', ls='--')\n",
        "\n",
        "            # Label the axes, with the percentage of variance explained\n",
        "            plt.xlabel('PC{} ({}%)'.format(d1+1, round(100*pca.explained_variance_ratio_[d1],1)))\n",
        "            plt.ylabel('PC{} ({}%)'.format(d2+1, round(100*pca.explained_variance_ratio_[d2],1)))\n",
        "\n",
        "            plt.title(\"Correlation Circle (PC{} and PC{})\".format(d1+1, d2+1))\n",
        "            plt.show(block=False)\n",
        "        \n",
        "def display_factorial_planes(X_projected, n_comp, pca, axis_ranks, labels=None, alpha=1, illustrative_var=None):\n",
        "    '''Display a scatter plot on a factorial plane, one for each factorial plane'''\n",
        "\n",
        "    # For each factorial plane\n",
        "    for d1,d2 in axis_ranks:\n",
        "        if d2 < n_comp:\n",
        " \n",
        "            # Initialise the matplotlib figure      \n",
        "            fig = plt.figure(figsize=(7,6))\n",
        "        \n",
        "            # Display the points\n",
        "            if illustrative_var is None:\n",
        "                plt.scatter(X_projected[:, d1], X_projected[:, d2], alpha=alpha)\n",
        "            else:\n",
        "                illustrative_var = np.array(illustrative_var)\n",
        "                for value in np.unique(illustrative_var):\n",
        "                    selected = np.where(illustrative_var == value)\n",
        "                    plt.scatter(X_projected[selected, d1], X_projected[selected, d2], alpha=alpha, label=value)\n",
        "                plt.legend()\n",
        "\n",
        "            # Display the labels on the points\n",
        "            if labels is not None:\n",
        "                for i,(x,y) in enumerate(X_projected[:,[d1,d2]]):\n",
        "                    plt.text(x, y, labels[i],\n",
        "                              fontsize='14', ha='center',va='center') \n",
        "                \n",
        "            # Define the limits of the chart\n",
        "            boundary = np.max(np.abs(X_projected[:, [d1,d2]])) * 1.1\n",
        "            plt.xlim([-boundary,boundary])\n",
        "            plt.ylim([-boundary,boundary])\n",
        "        \n",
        "            # Display grid lines\n",
        "            plt.plot([-100, 100], [0, 0], color='grey', ls='--')\n",
        "            plt.plot([0, 0], [-100, 100], color='grey', ls='--')\n",
        "\n",
        "            # Label the axes, with the percentage of variance explained\n",
        "            plt.xlabel('PC{} ({}%)'.format(d1+1, round(100*pca.explained_variance_ratio_[d1],1)))\n",
        "            plt.ylabel('PC{} ({}%)'.format(d2+1, round(100*pca.explained_variance_ratio_[d2],1)))\n",
        "\n",
        "            plt.title(\"Projection of points (on PC{} and PC{})\".format(d1+1, d2+1))\n",
        "            #plt.show(block=False)\n",
        "\n",
        "def addAlpha(colour, alpha):\n",
        "    '''Add an alpha to the RGB colour'''\n",
        "    \n",
        "    return (colour[0],colour[1],colour[2],alpha)\n",
        "\n",
        "def display_parallel_coordinates(df, num_clusters):\n",
        "    '''Display a parallel coordinates plot for the clusters in df'''\n",
        "\n",
        "    # Select data points for individual clusters\n",
        "    cluster_points = []\n",
        "    for i in range(num_clusters):\n",
        "        cluster_points.append(df[df.cluster==i])\n",
        "    \n",
        "    # Create the plot\n",
        "    fig = plt.figure(figsize=(12, 15))\n",
        "    title = fig.suptitle(\"Parallel Coordinates Plot for the Clusters\", fontsize=18)\n",
        "    fig.subplots_adjust(top=0.95, wspace=0)\n",
        "\n",
        "    # Display one plot for each cluster, with the lines for the main cluster appearing over the lines for the other clusters\n",
        "    for i in range(num_clusters):    \n",
        "        plt.subplot(num_clusters, 1, i+1)\n",
        "        for j,c in enumerate(cluster_points): \n",
        "            if i!= j:\n",
        "                pc = parallel_coordinates(c, 'cluster', color=[addAlpha(palette[j],0.2)])\n",
        "        pc = parallel_coordinates(cluster_points[i], 'cluster', color=[addAlpha(palette[i],0.5)])\n",
        "\n",
        "        # Stagger the axes\n",
        "        ax=plt.gca()\n",
        "        for tick in ax.xaxis.get_major_ticks()[1::2]:\n",
        "            tick.set_pad(20)        \n",
        "\n",
        "\n",
        "def display_parallel_coordinates_centroids(df, num_clusters):\n",
        "    '''Display a parallel coordinates plot for the centroids in df'''\n",
        "\n",
        "    # Create the plot\n",
        "    fig = plt.figure(figsize=(12, 5))\n",
        "    title = fig.suptitle(\"Parallel Coordinates plot for the Centroids\", fontsize=18)\n",
        "    fig.subplots_adjust(top=0.9, wspace=0)\n",
        "\n",
        "    # Draw the chart\n",
        "    parallel_coordinates(df, 'cluster', color=palette)\n",
        "\n",
        "    # Stagger the axes\n",
        "    ax=plt.gca()\n",
        "    for tick in ax.xaxis.get_major_ticks()[1::2]:\n",
        "        tick.set_pad(20) "
      ],
      "execution_count": 0,
      "outputs": []
    },
    {
      "cell_type": "markdown",
      "metadata": {
        "id": "p47Qb7dX1fem",
        "colab_type": "text"
      },
      "source": [
        "**Eliminating Outliers**\n",
        "\n",
        "---\n",
        "\n",
        "\n"
      ]
    },
    {
      "cell_type": "code",
      "metadata": {
        "id": "mCOVuPsn5hCs",
        "colab_type": "code",
        "outputId": "42a2f6f7-f164-46d2-bf07-c975e8b6cfa6",
        "colab": {
          "base_uri": "https://localhost:8080/",
          "height": 34
        }
      },
      "source": [
        "data.shape"
      ],
      "execution_count": 0,
      "outputs": [
        {
          "output_type": "execute_result",
          "data": {
            "text/plain": [
              "(400, 26)"
            ]
          },
          "metadata": {
            "tags": []
          },
          "execution_count": 62
        }
      ]
    },
    {
      "cell_type": "markdown",
      "metadata": {
        "id": "mO4T6cwrtIWs",
        "colab_type": "text"
      },
      "source": [
        "**Interquartile Range (IQR) Method**"
      ]
    },
    {
      "cell_type": "code",
      "metadata": {
        "id": "e-6FrU7lDlqS",
        "colab_type": "code",
        "colab": {}
      },
      "source": [
        "# Calculating IQR score\n",
        "Q1 = data.quantile(0.25)\n",
        "Q3 = data.quantile(0.75)\n",
        "IQR = Q3 - Q1"
      ],
      "execution_count": 0,
      "outputs": []
    },
    {
      "cell_type": "code",
      "metadata": {
        "id": "qFHx29dEDsEx",
        "colab_type": "code",
        "outputId": "ad032f8b-c082-43bb-a4c3-e424d81012d0",
        "colab": {
          "base_uri": "https://localhost:8080/",
          "height": 34
        }
      },
      "source": [
        "df_out = data[~((data < (Q1 - 1.5 * IQR)) |(data > (Q3 + 1.5 * IQR))).any(axis=1)]\n",
        "df_out.shape"
      ],
      "execution_count": 0,
      "outputs": [
        {
          "output_type": "execute_result",
          "data": {
            "text/plain": [
              "(151, 26)"
            ]
          },
          "metadata": {
            "tags": []
          },
          "execution_count": 61
        }
      ]
    },
    {
      "cell_type": "markdown",
      "metadata": {
        "id": "iB9vMRZntZBI",
        "colab_type": "text"
      },
      "source": [
        "**Z-score Method**"
      ]
    },
    {
      "cell_type": "code",
      "metadata": {
        "id": "4sJRKTc8Emzu",
        "colab_type": "code",
        "outputId": "50cdf2d8-2121-48ad-e632-703601fbee3b",
        "colab": {
          "base_uri": "https://localhost:8080/",
          "height": 136
        }
      },
      "source": [
        "from scipy import stats\n",
        "z = np.abs(stats.zscore(data))\n",
        "print(z)"
      ],
      "execution_count": 0,
      "outputs": [
        {
          "output_type": "stream",
          "text": [
            "[[1.72772608 0.20546364 0.26233836 ... 0.4843221  0.42008403 0.78288136]\n",
            " [1.7190658  2.62380991 1.96658024 ... 0.4843221  0.42008403 0.78288136]\n",
            " [1.71040552 0.62031314 0.26233836 ... 0.4843221  2.38047614 0.78288136]\n",
            " ...\n",
            " [1.71040552 2.32888964 0.26233836 ... 0.4843221  0.42008403 1.27733275]\n",
            " [1.7190658  2.03396936 1.22360737 ... 0.4843221  0.42008403 1.27733275]\n",
            " [1.72772608 0.38437691 0.26233836 ... 0.4843221  0.42008403 1.27733275]]\n"
          ],
          "name": "stdout"
        }
      ]
    },
    {
      "cell_type": "markdown",
      "metadata": {
        "id": "SMTzMX1rE4IU",
        "colab_type": "text"
      },
      "source": [
        " The first array contains the list of row numbers and second array respective column numbers, which mean row 2 column 10 have a Z-score higher than 3."
      ]
    },
    {
      "cell_type": "code",
      "metadata": {
        "id": "yKw7kdRdEwER",
        "colab_type": "code",
        "outputId": "de340fe5-a709-47fe-eaf9-26844aab3f10",
        "colab": {
          "base_uri": "https://localhost:8080/",
          "height": 292
        }
      },
      "source": [
        "threshold = 3\n",
        "print(np.where(z > 3))"
      ],
      "execution_count": 0,
      "outputs": [
        {
          "output_type": "stream",
          "text": [
            "(array([  2,   6,   6,   7,   7,  10,  10,  11,  12,  13,  14,  14,  18,\n",
            "        19,  20,  21,  21,  21,  24,  27,  27,  29,  34,  48,  49,  53,\n",
            "        54,  56,  56,  57,  58,  61,  61,  61,  67,  69,  70,  73,  76,\n",
            "        84,  86,  90,  90,  92,  92,  93,  96,  98,  99,  99, 101, 103,\n",
            "       107, 111, 120, 122, 123, 128, 130, 130, 130, 133, 139, 140, 143,\n",
            "       145, 145, 145, 145, 148, 153, 155, 156, 158, 158, 160, 168, 170,\n",
            "       170, 176, 180, 181, 184, 189, 190, 190, 193, 195, 195, 198, 199,\n",
            "       201, 210, 211, 212, 213, 225, 225, 225, 226, 231, 233, 235, 236,\n",
            "       238, 242, 242, 244, 245, 246, 246, 248, 248, 249, 249, 249, 249]), array([10, 12, 13,  5, 10,  5, 10, 10, 21, 21,  9, 21, 21, 21, 21, 12, 13,\n",
            "       21,  9,  5, 21, 21,  9, 17, 17,  5, 21,  5, 21, 21, 21, 11, 12, 14,\n",
            "       10,  5,  5, 16,  9, 18, 10,  9, 21,  9, 21, 21, 21,  2,  2,  5,  9,\n",
            "       11,  5, 21, 21, 11,  9, 14,  9, 11, 17, 18,  9,  5,  5,  4,  9, 11,\n",
            "       21, 12, 11,  9,  9, 10, 21, 21,  5,  5, 10,  9,  5, 17, 21,  9,  9,\n",
            "       17, 11,  9, 21, 17, 21, 21, 21,  2,  5,  9,  5,  9, 10,  9, 21,  9,\n",
            "       21, 21, 11,  9, 21, 10, 21, 11, 21, 10, 21, 11, 15, 16, 18]))\n"
          ],
          "name": "stdout"
        }
      ]
    },
    {
      "cell_type": "code",
      "metadata": {
        "id": "b26pSZhnGu7C",
        "colab_type": "code",
        "outputId": "cdaf7041-62af-437f-957c-97a18dd24289",
        "colab": {
          "base_uri": "https://localhost:8080/",
          "height": 34
        }
      },
      "source": [
        "df_out = data[(z < 3).all(axis=1)]\n",
        "df_out.shape"
      ],
      "execution_count": 0,
      "outputs": [
        {
          "output_type": "execute_result",
          "data": {
            "text/plain": [
              "(313, 26)"
            ]
          },
          "metadata": {
            "tags": []
          },
          "execution_count": 67
        }
      ]
    },
    {
      "cell_type": "markdown",
      "metadata": {
        "id": "RVhx4jzLHgA4",
        "colab_type": "text"
      },
      "source": [
        "With the IQR with lose 62.25% of the data, while with the z-score with lose 21.75% "
      ]
    },
    {
      "cell_type": "markdown",
      "metadata": {
        "id": "f95_Wg4SIiAz",
        "colab_type": "text"
      },
      "source": [
        "outliers = patient having the disease --> We are interested in disease subtypes, therefore we need to study the outliers"
      ]
    }
  ]
}